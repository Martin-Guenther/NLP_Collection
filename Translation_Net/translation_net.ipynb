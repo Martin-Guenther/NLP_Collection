{
 "cells": [
  {
   "cell_type": "markdown",
   "metadata": {},
   "source": [
    "# Recurrent Neural Networks for Machine Translation\n",
    "\n",
    "The intention of this notebook ist to show implementation, training and use of recurrent neural networks for machine translation."
   ]
  },
  {
   "cell_type": "code",
   "execution_count": 1,
   "metadata": {},
   "outputs": [
    {
     "name": "stderr",
     "output_type": "stream",
     "text": [
      "Using TensorFlow backend.\n"
     ]
    }
   ],
   "source": [
    "from keras.preprocessing.text import Tokenizer, text_to_word_sequence\n",
    "from keras.preprocessing.sequence import pad_sequences\n",
    "\n",
    "from keras.initializers import Constant\n",
    "from keras.layers import Embedding, Dense, GRU, Input, Bidirectional, RepeatVector, TimeDistributed, LSTM\n",
    "from keras.models import Model\n",
    "from keras.optimizers import Adam\n",
    "from keras.utils import to_categorical\n",
    "\n",
    "import numpy as np\n",
    "import matplotlib.pyplot as plt\n",
    "\n",
    "from model import *"
   ]
  },
  {
   "cell_type": "markdown",
   "metadata": {},
   "source": [
    "At first, the dataset is loaded. It is split into two files, *small_vocab_en* with 137861 english sentences, and *small_vocab_fr* with the french translation of each sentence."
   ]
  },
  {
   "cell_type": "code",
   "execution_count": 2,
   "metadata": {},
   "outputs": [],
   "source": [
    "with open(\"./data/small_vocab_en.txt\") as f:\n",
    "    en_vocab = f.read()\n",
    "    \n",
    "with open(\"./data/small_vocab_fr.txt\") as f:\n",
    "    fr_vocab = f.read()\n",
    "    \n",
    "en_vocab = en_vocab.split('\\n')\n",
    "fr_vocab = fr_vocab.split('\\n')"
   ]
  },
  {
   "cell_type": "code",
   "execution_count": 3,
   "metadata": {},
   "outputs": [
    {
     "name": "stdout",
     "output_type": "stream",
     "text": [
      "Number of english sentences: 137861\n",
      "Number of french sentences: 137861\n",
      "\n",
      "Example:\n",
      "--------\n",
      "English: new jersey is sometimes quiet during autumn , and it is snowy in april .\n",
      "French:  new jersey est parfois calme pendant l' automne , et il est neigeux en avril .\n"
     ]
    }
   ],
   "source": [
    "print(\"Number of english sentences: {}\".format(len(en_vocab)))\n",
    "print(\"Number of french sentences: {}\".format(len(fr_vocab)))\n",
    "print(\"\\nExample:\\n--------\")\n",
    "print(\"English:\", en_vocab[0])\n",
    "print(\"French: \", fr_vocab[0])"
   ]
  },
  {
   "cell_type": "markdown",
   "metadata": {},
   "source": [
    "The next step is preprocess the data. The english as well as the french words are tokenized using the Keras Tokenizer. The tokenized sentences are stored to the lists `en_sequences` and `fr_sequences`. Then dictionaries that translate words to tokens and tokens back to words are genereated. A padding term is added to the token-to-word dictionaries because the token \"0\" is used for padding sentences to the same length but it has no corresponding word in the dataset. Also the function `token_seq_to_french_sentence()` to translate a sequence of tokens back to a french sentence is defined."
   ]
  },
  {
   "cell_type": "code",
   "execution_count": 4,
   "metadata": {},
   "outputs": [
    {
     "name": "stdout",
     "output_type": "stream",
     "text": [
      "Sentence in dataset:\n",
      "--------------------\n",
      " new jersey est parfois calme pendant l' automne , et il est neigeux en avril .\n",
      "\n",
      "Tokenized sentence:\n",
      "-------------------\n",
      " [ 35  34   1   8  67  37  11  24   6   3   1 112   2  50   0   0   0   0\n",
      "   0   0   0]\n",
      "\n",
      "From token back to sentence:\n",
      "-------------------------\n",
      "  new jersey est parfois calme pendant l' automne et il est neigeux en avril <PAD> <PAD> <PAD> <PAD> <PAD> <PAD> <PAD>\n"
     ]
    }
   ],
   "source": [
    "MAX_NUM_WORDS = 20000\n",
    "\n",
    "# tokenize english words\n",
    "en_tokenizer = Tokenizer(num_words=MAX_NUM_WORDS)\n",
    "en_tokenizer.fit_on_texts(en_vocab)\n",
    "en_sequences = pad_sequences(en_tokenizer.texts_to_sequences(en_vocab), maxlen=None, padding='post')\n",
    "max_en_len = en_sequences.shape[1]\n",
    "\n",
    "# tokenize french words\n",
    "fr_tokenizer = Tokenizer(num_words=MAX_NUM_WORDS)\n",
    "fr_tokenizer.fit_on_texts(fr_vocab)\n",
    "fr_sequences = pad_sequences(fr_tokenizer.texts_to_sequences(fr_vocab), maxlen=None, padding='post')\n",
    "max_fr_len = fr_sequences.shape[1]\n",
    "\n",
    "# englich word => token dictionary\n",
    "en_word_to_token = en_tokenizer.word_index\n",
    "en_word_to_token[\"<PAD>\"] = 0\n",
    "\n",
    "# token => english word dictionary\n",
    "en_token_to_word = {}\n",
    "for word, token in en_word_to_token.items():\n",
    "    en_token_to_word[token] = word\n",
    "\n",
    "# french word => token dictionary\n",
    "fr_word_to_token = fr_tokenizer.word_index\n",
    "fr_word_to_token[\"<PAD>\"] = 0\n",
    "\n",
    "# token => french word dictionary\n",
    "fr_token_to_word = {}\n",
    "for word, token in fr_word_to_token.items():\n",
    "    fr_token_to_word[token] = word\n",
    "\n",
    "\n",
    "def token_seq_to_french_sentence(seq):\n",
    "    sentence = \"\"\n",
    "    for word in [fr_token_to_word[token] for token in seq]:\n",
    "        sentence = sentence + \" \" + word\n",
    "    return sentence\n",
    "\n",
    "print(\"Sentence in dataset:\\n--------------------\\n\", fr_vocab[0])\n",
    "print(\"\\nTokenized sentence:\\n-------------------\\n\", fr_sequences[0])\n",
    "print(\"\\nFrom token back to sentence:\\n-------------------------\\n\", token_seq_to_french_sentence(fr_sequences[0]))"
   ]
  },
  {
   "cell_type": "markdown",
   "metadata": {},
   "source": [
    "The outputs of the neural translator network are the possibilities for each word in the french vocabulary. Therefore, the french sequences must be one-hot encoded so that they can be used to be compared to the word possibilities put out by the neural network."
   ]
  },
  {
   "cell_type": "code",
   "execution_count": 5,
   "metadata": {},
   "outputs": [
    {
     "name": "stdout",
     "output_type": "stream",
     "text": [
      "Shape of en_sequences: (137861, 15)\n",
      "shape of fr_sequences: (137861, 21, 346)\n"
     ]
    }
   ],
   "source": [
    "fr_sequences = to_categorical(fr_sequences)\n",
    "\n",
    "print(\"Shape of en_sequences: {}\".format(en_sequences.shape))\n",
    "print(\"shape of fr_sequences: {}\".format(fr_sequences.shape))"
   ]
  },
  {
   "cell_type": "markdown",
   "metadata": {},
   "source": [
    "The neural networks used in this notebook use GloVe word embedding. The next step is to load the word vectors from file and prepare the embedding layer. "
   ]
  },
  {
   "cell_type": "code",
   "execution_count": 6,
   "metadata": {},
   "outputs": [
    {
     "name": "stdout",
     "output_type": "stream",
     "text": [
      "Loaded 400000 GloVe word vectors.\n"
     ]
    }
   ],
   "source": [
    "# Some parts in this cell are from or inspired by \"The Keras Blog: Using\n",
    "# pre-trained word embeddings in a Keras model\",\n",
    "# https://blog.keras.io/using-pre-trained-word-embeddings-in-a-keras-model.html\n",
    "\n",
    "# Load GloVe word vectors\n",
    "embeddings_index = {}\n",
    "with open(\"glove.6B.100d.txt\", encoding='utf8') as f:\n",
    "    for line in f:\n",
    "        values = line.split()\n",
    "        word = values[0]\n",
    "        coeffs = np.asarray(values[1:], dtype='float32')\n",
    "        embeddings_index[word] = coeffs\n",
    "\n",
    "print('Loaded {} GloVe word vectors.'.format(len(embeddings_index)))\n",
    "\n",
    "# Prepare embedding matrix\n",
    "embedding_dim = embeddings_index[\"sunday\"].shape[0]\n",
    "\n",
    "num_words = min(MAX_NUM_WORDS, len(en_word_to_token)) + 1\n",
    "embedding_matrix = np.zeros((num_words, embedding_dim))\n",
    "for word, i in en_word_to_token.items():\n",
    "    if i > MAX_NUM_WORDS:\n",
    "        continue\n",
    "    embedding_vector = embeddings_index.get(word)\n",
    "    if embedding_vector is not None:\n",
    "        # Words not found in embedding index will be all-zeros.\n",
    "        embedding_matrix[i] = embedding_vector\n",
    "\n",
    "# Load pre-trained word embeddings into an Embedding layer\n",
    "embedding_layer = Embedding(num_words,\n",
    "                            embedding_dim,\n",
    "                            embeddings_initializer=Constant(embedding_matrix),\n",
    "                            input_length=max_en_len,\n",
    "                            trainable=False)"
   ]
  },
  {
   "cell_type": "markdown",
   "metadata": {},
   "source": [
    "In the following cells, the neural network is defined and trained."
   ]
  },
  {
   "cell_type": "code",
   "execution_count": 7,
   "metadata": {},
   "outputs": [],
   "source": [
    "def plot_training_history(history, model_name=\"model\"):\n",
    "    # Plot training and validation accuracy values\n",
    "    plt.subplot(121)\n",
    "    plt.plot(history.history['acc'])\n",
    "    plt.plot(history.history['val_acc'])\n",
    "    plt.title('Prediction accuracy of {}'.format(model_name))\n",
    "    plt.ylabel('Accuracy')\n",
    "    plt.xlabel('Training Epoch')\n",
    "    plt.legend(['Train', 'Test'], loc='upper left')\n",
    "    #plt.show()\n",
    "    \n",
    "    # Plot training and validation loss values\n",
    "    plt.subplot(122)\n",
    "    plt.plot(history.history['loss'])\n",
    "    plt.plot(history.history['val_loss'])\n",
    "    plt.title('Prediction loss of {}'.format(model_name))\n",
    "    plt.ylabel('Loss')\n",
    "    plt.xlabel('Training Epoch')\n",
    "    plt.legend(['Train', 'Test'], loc='upper left')\n",
    "    plt.tight_layout()\n",
    "    plt.show()"
   ]
  },
  {
   "cell_type": "markdown",
   "metadata": {},
   "source": [
    "### Model 1 ###"
   ]
  },
  {
   "cell_type": "code",
   "execution_count": 8,
   "metadata": {},
   "outputs": [],
   "source": [
    "def translator_net(input_seq_len, embed_layer, output_seq_len, output_dim):\n",
    "    # encoder\n",
    "    model_input = Input(shape=(input_seq_len,), dtype='int32')\n",
    "    emb = embed_layer(model_input)\n",
    "    enc_gru = Bidirectional(GRU(units=256, return_sequences=False))(emb)\n",
    "    rep = RepeatVector(output_seq_len)(enc_gru)\n",
    "    # decoder\n",
    "    dec_gru = GRU(units=256, return_sequences=True)(rep)\n",
    "    out = TimeDistributed(Dense(output_dim, activation=\"softmax\"))(dec_gru)\n",
    "    \n",
    "    model = Model(model_input, out)\n",
    "    model.compile(loss=\"categorical_crossentropy\",\n",
    "                  optimizer=\"adam\",\n",
    "                  metrics=['accuracy'])\n",
    "    return model"
   ]
  },
  {
   "cell_type": "code",
   "execution_count": 9,
   "metadata": {},
   "outputs": [
    {
     "name": "stdout",
     "output_type": "stream",
     "text": [
      "_________________________________________________________________\n",
      "Layer (type)                 Output Shape              Param #   \n",
      "=================================================================\n",
      "input_1 (InputLayer)         (None, 15)                0         \n",
      "_________________________________________________________________\n",
      "embedding_1 (Embedding)      (None, 15, 100)           20100     \n",
      "_________________________________________________________________\n",
      "bidirectional_1 (Bidirection (None, 512)               548352    \n",
      "_________________________________________________________________\n",
      "repeat_vector_1 (RepeatVecto (None, 21, 512)           0         \n",
      "_________________________________________________________________\n",
      "gru_2 (GRU)                  (None, 21, 256)           590592    \n",
      "_________________________________________________________________\n",
      "time_distributed_1 (TimeDist (None, 21, 346)           88922     \n",
      "=================================================================\n",
      "Total params: 1,247,966\n",
      "Trainable params: 1,227,866\n",
      "Non-trainable params: 20,100\n",
      "_________________________________________________________________\n",
      "Train on 103395 samples, validate on 34466 samples\n",
      "Epoch 1/20\n",
      "103395/103395 [==============================] - 58s 560us/step - loss: 2.5499 - acc: 0.4622 - val_loss: 1.9695 - val_acc: 0.5228\n",
      "Epoch 2/20\n",
      "103395/103395 [==============================] - 48s 460us/step - loss: 1.8132 - acc: 0.5574 - val_loss: 1.6299 - val_acc: 0.5903\n",
      "Epoch 3/20\n",
      "103395/103395 [==============================] - 49s 470us/step - loss: 1.4996 - acc: 0.6135 - val_loss: 1.3561 - val_acc: 0.6419\n",
      "Epoch 4/20\n",
      "103395/103395 [==============================] - 50s 483us/step - loss: 1.2566 - acc: 0.6665 - val_loss: 1.1672 - val_acc: 0.6868\n",
      "Epoch 5/20\n",
      "103395/103395 [==============================] - 49s 474us/step - loss: 1.0801 - acc: 0.7051 - val_loss: 0.9841 - val_acc: 0.7303\n",
      "Epoch 6/20\n",
      "103395/103395 [==============================] - 37s 354us/step - loss: 0.9164 - acc: 0.7468 - val_loss: 0.8737 - val_acc: 0.7532\n",
      "Epoch 7/20\n",
      "103395/103395 [==============================] - 36s 344us/step - loss: 0.8077 - acc: 0.7725 - val_loss: 0.7598 - val_acc: 0.7841\n",
      "Epoch 8/20\n",
      "103395/103395 [==============================] - 36s 348us/step - loss: 0.7259 - acc: 0.7925 - val_loss: 0.6919 - val_acc: 0.8004\n",
      "Epoch 9/20\n",
      "103395/103395 [==============================] - 36s 344us/step - loss: 0.6643 - acc: 0.8086 - val_loss: 0.6437 - val_acc: 0.8172\n",
      "Epoch 10/20\n",
      "103395/103395 [==============================] - 35s 339us/step - loss: 0.5832 - acc: 0.8330 - val_loss: 0.5504 - val_acc: 0.8445\n",
      "Epoch 11/20\n",
      "103395/103395 [==============================] - 35s 341us/step - loss: 0.5111 - acc: 0.8553 - val_loss: 0.4877 - val_acc: 0.8639\n",
      "Epoch 12/20\n",
      "103395/103395 [==============================] - 39s 380us/step - loss: 0.4475 - acc: 0.8752 - val_loss: 0.4274 - val_acc: 0.8822\n",
      "Epoch 13/20\n",
      "103395/103395 [==============================] - 39s 379us/step - loss: 0.3905 - acc: 0.8922 - val_loss: 0.3672 - val_acc: 0.9001\n",
      "Epoch 14/20\n",
      "103395/103395 [==============================] - 39s 378us/step - loss: 0.3393 - acc: 0.9078 - val_loss: 0.3281 - val_acc: 0.9119\n",
      "Epoch 15/20\n",
      "103395/103395 [==============================] - 39s 379us/step - loss: 0.2998 - acc: 0.9193 - val_loss: 0.2925 - val_acc: 0.9221\n",
      "Epoch 16/20\n",
      "103395/103395 [==============================] - 39s 379us/step - loss: 0.2682 - acc: 0.9284 - val_loss: 0.2651 - val_acc: 0.9298\n",
      "Epoch 17/20\n",
      "103395/103395 [==============================] - 38s 366us/step - loss: 0.2488 - acc: 0.9335 - val_loss: 0.2524 - val_acc: 0.9331\n",
      "Epoch 18/20\n",
      "103395/103395 [==============================] - 35s 340us/step - loss: 0.2130 - acc: 0.9434 - val_loss: 0.2062 - val_acc: 0.9450\n",
      "Epoch 19/20\n",
      "103395/103395 [==============================] - 35s 341us/step - loss: 0.1881 - acc: 0.9500 - val_loss: 0.2059 - val_acc: 0.9445\n",
      "Epoch 20/20\n",
      "103395/103395 [==============================] - 35s 343us/step - loss: 0.1763 - acc: 0.9524 - val_loss: 0.1831 - val_acc: 0.9504\n"
     ]
    }
   ],
   "source": [
    "model = translator_net(input_seq_len=max_en_len, embed_layer=embedding_layer,\n",
    "             output_seq_len=max_fr_len, output_dim=len(fr_token_to_word))\n",
    "model.summary()\n",
    "\n",
    "history = model.fit(en_sequences, fr_sequences, validation_split=0.25, shuffle=True,\n",
    "                    batch_size=1024, epochs=20, verbose=1)"
   ]
  },
  {
   "cell_type": "code",
   "execution_count": 10,
   "metadata": {},
   "outputs": [
    {
     "data": {
      "image/png": "[encoded data removed]",
      "text/plain": [
       "<Figure size 432x288 with 2 Axes>"
      ]
     },
     "metadata": {
      "needs_background": "light"
     },
     "output_type": "display_data"
    }
   ],
   "source": [
    "plot_training_history(history)"
   ]
  },
  {
   "cell_type": "markdown",
   "metadata": {},
   "source": [
    "### Model 2 ###"
   ]
  },
  {
   "cell_type": "code",
   "execution_count": 8,
   "metadata": {},
   "outputs": [],
   "source": [
    "class TranslatorNet2:\n",
    "    \"\"\"\n",
    "    \n",
    "    \"\"\"\n",
    "    def __init__(self, input_sequence_length, output_sequence_length,\n",
    "                 output_dimension, embedding_layer=None, input_dimension=None):\n",
    "        self.output_dimension = output_dimension\n",
    "        self.output_sequence_length = output_sequence_length\n",
    "        # encoder\n",
    "        enc_input = Input(shape=(input_sequence_length,), dtype='int32')\n",
    "        if embedding_layer is None:\n",
    "            if input_dimension is None:\n",
    "                raise ValueError(\"If embedding_layer is None, input_dimension must be specified.\")\n",
    "            emb = Embedding(input_dimension, 64, input_length=input_sequence_length,\n",
    "                            mask_zero=False)(enc_input)\n",
    "        else:\n",
    "            emb = embed_layer(enc_input)\n",
    "        \n",
    "        enc_lstm = LSTM(128, return_state=True, return_sequences=False)\n",
    "        enc_out, state_h, state_c = enc_lstm(emb)\n",
    "        enc_state = [state_h, state_c]\n",
    "        \n",
    "        # decoder\n",
    "        dec_input = Input(shape=(None, output_dimension))\n",
    "        dec_lstm = LSTM(128, return_sequences=True, return_state=True)\n",
    "        dec_lstm_out, _, _ = dec_lstm(dec_input, initial_state=enc_state)\n",
    "        dec_dense = Dense(output_dimension, activation=\"softmax\")\n",
    "        dec_out = dec_dense(dec_lstm_out)\n",
    "        \n",
    "        # training model\n",
    "        self.training_model = Model([enc_input, dec_input], dec_out)\n",
    "\n",
    "        # inference encoder\n",
    "        self.inference_encoder = Model(enc_input, enc_state)\n",
    "        \n",
    "        # inference decoder\n",
    "        input_state_h = Input(shape=(128,))\n",
    "        input_state_c = Input(shape=(128,))\n",
    "        input_state = [input_state_h, input_state_c]\n",
    "        dec_lstm_out, state_h, state_c = dec_lstm(dec_input, initial_state=input_state)\n",
    "        dec_state = [state_h, state_c]\n",
    "        dec_out = dec_dense(dec_lstm_out)\n",
    "        \n",
    "        self.inference_decoder = Model([dec_input] + input_state, [dec_out] + dec_state)\n",
    "        \n",
    "        learning_rate = 0.01\n",
    "        self.training_model.compile(loss=\"categorical_crossentropy\",\n",
    "                                    optimizer=Adam(learning_rate), metrics=['accuracy'])\n",
    "    \n",
    "    def fit_on_data(self, input_sequences, output_sequences, epochs=10, validation_split=0.2):\n",
    "        pad_hot_encoded = np.array([1] + (fr_sequences[0].shape[1] - 1)*[0])\n",
    "        shifted_output_sequences = np.copy(output_sequences)\n",
    "        for seq in shifted_output_sequences:\n",
    "            seq[...] = np.vstack((pad_hot_encoded, seq[:-1]))\n",
    "        \n",
    "        history = self.training_model.fit([input_sequences, shifted_output_sequences], output_sequences,\n",
    "                                          validation_split=validation_split, batch_size=1024,\n",
    "                                          epochs=epochs, verbose=1)\n",
    "        return history\n",
    "    \n",
    "    def predict(self, input_sequence):\n",
    "        # encode\n",
    "        state = self.inference_encoder.predict(input_sequence.reshape(1,-1))\n",
    "        # start of sequence input\n",
    "        target_seq = np.array([0.0 for _ in range(self.output_dimension)]).reshape(1, 1, self.output_dimension)\n",
    "        # collect predictions\n",
    "        output = list()\n",
    "        for t in range(self.output_sequence_length):\n",
    "            # predict next word\n",
    "            yhat, h, c = self.inference_decoder.predict([target_seq] + state)\n",
    "        \n",
    "            output.append(yhat[0, 0, :])\n",
    "        \n",
    "            state = [h, c]\n",
    "        \n",
    "            target_seq = yhat\n",
    "        token_seq = [np.argmax(row) for row in output]\n",
    "        return np.array(token_seq)"
   ]
  },
  {
   "cell_type": "code",
   "execution_count": 33,
   "metadata": {},
   "outputs": [
    {
     "name": "stdout",
     "output_type": "stream",
     "text": [
      "__________________________________________________________________________________________________\n",
      "Layer (type)                    Output Shape         Param #     Connected to                     \n",
      "==================================================================================================\n",
      "input_9 (InputLayer)            (None, 15)           0                                            \n",
      "__________________________________________________________________________________________________\n",
      "embedding_4 (Embedding)         (None, 15, 64)       12800       input_9[0][0]                    \n",
      "__________________________________________________________________________________________________\n",
      "input_10 (InputLayer)           (None, None, 346)    0                                            \n",
      "__________________________________________________________________________________________________\n",
      "lstm_5 (LSTM)                   [(None, 128), (None, 98816       embedding_4[0][0]                \n",
      "__________________________________________________________________________________________________\n",
      "lstm_6 (LSTM)                   [(None, None, 128),  243200      input_10[0][0]                   \n",
      "                                                                 lstm_5[0][1]                     \n",
      "                                                                 lstm_5[0][2]                     \n",
      "__________________________________________________________________________________________________\n",
      "dense_3 (Dense)                 (None, None, 346)    44634       lstm_6[0][0]                     \n",
      "==================================================================================================\n",
      "Total params: 399,450\n",
      "Trainable params: 399,450\n",
      "Non-trainable params: 0\n",
      "__________________________________________________________________________________________________\n",
      "_________________________________________________________________\n",
      "Layer (type)                 Output Shape              Param #   \n",
      "=================================================================\n",
      "input_9 (InputLayer)         (None, 15)                0         \n",
      "_________________________________________________________________\n",
      "embedding_4 (Embedding)      (None, 15, 64)            12800     \n",
      "_________________________________________________________________\n",
      "lstm_5 (LSTM)                [(None, 128), (None, 128) 98816     \n",
      "=================================================================\n",
      "Total params: 111,616\n",
      "Trainable params: 111,616\n",
      "Non-trainable params: 0\n",
      "_________________________________________________________________\n",
      "__________________________________________________________________________________________________\n",
      "Layer (type)                    Output Shape         Param #     Connected to                     \n",
      "==================================================================================================\n",
      "input_10 (InputLayer)           (None, None, 346)    0                                            \n",
      "__________________________________________________________________________________________________\n",
      "input_11 (InputLayer)           (None, 128)          0                                            \n",
      "__________________________________________________________________________________________________\n",
      "input_12 (InputLayer)           (None, 128)          0                                            \n",
      "__________________________________________________________________________________________________\n",
      "lstm_6 (LSTM)                   [(None, None, 128),  243200      input_10[0][0]                   \n",
      "                                                                 input_11[0][0]                   \n",
      "                                                                 input_12[0][0]                   \n",
      "__________________________________________________________________________________________________\n",
      "dense_3 (Dense)                 (None, None, 346)    44634       lstm_6[1][0]                     \n",
      "==================================================================================================\n",
      "Total params: 287,834\n",
      "Trainable params: 287,834\n",
      "Non-trainable params: 0\n",
      "__________________________________________________________________________________________________\n"
     ]
    }
   ],
   "source": [
    "translator = TranslatorNet2(input_sequence_length=max_en_len, output_sequence_length=max_fr_len,\n",
    "                            output_dimension=len(fr_token_to_word), input_dimension=len(en_token_to_word))\n",
    "\n",
    "translator.training_model.summary()\n",
    "translator.inference_encoder.summary()\n",
    "translator.inference_decoder.summary()"
   ]
  },
  {
   "cell_type": "code",
   "execution_count": 9,
   "metadata": {},
   "outputs": [
    {
     "name": "stdout",
     "output_type": "stream",
     "text": [
      "Train on 110288 samples, validate on 27573 samples\n",
      "Epoch 1/10\n",
      "110288/110288 [==============================] - 27s 247us/step - loss: 1.8229 - acc: 0.5950 - val_loss: 0.8116 - val_acc: 0.7392\n",
      "Epoch 2/10\n",
      "110288/110288 [==============================] - 23s 206us/step - loss: 0.6927 - acc: 0.7605 - val_loss: 0.7007 - val_acc: 0.7582\n",
      "Epoch 3/10\n",
      "110288/110288 [==============================] - 22s 204us/step - loss: 0.5741 - acc: 0.7976 - val_loss: 0.4874 - val_acc: 0.8255\n",
      "Epoch 4/10\n",
      "110288/110288 [==============================] - 23s 207us/step - loss: 0.4199 - acc: 0.8491 - val_loss: 0.3839 - val_acc: 0.8609\n",
      "Epoch 5/10\n",
      "110288/110288 [==============================] - 23s 205us/step - loss: 0.3279 - acc: 0.8831 - val_loss: 0.2776 - val_acc: 0.9034\n",
      "Epoch 6/10\n",
      "110288/110288 [==============================] - 23s 206us/step - loss: 0.2465 - acc: 0.9148 - val_loss: 0.2231 - val_acc: 0.9214\n",
      "Epoch 7/10\n",
      "110288/110288 [==============================] - 23s 207us/step - loss: 0.1649 - acc: 0.9469 - val_loss: 0.1376 - val_acc: 0.9578\n",
      "Epoch 8/10\n",
      "110288/110288 [==============================] - 23s 210us/step - loss: 0.1151 - acc: 0.9665 - val_loss: 0.0907 - val_acc: 0.9767\n",
      "Epoch 9/10\n",
      "110288/110288 [==============================] - 23s 206us/step - loss: 0.0729 - acc: 0.9814 - val_loss: 0.0631 - val_acc: 0.9842s - loss: 0.0754 - acc: 0 - ETA: 2s - loss: 0.074\n",
      "Epoch 10/10\n",
      "110288/110288 [==============================] - 23s 207us/step - loss: 0.0857 - acc: 0.9762 - val_loss: 0.0576 - val_acc: 0.9848\n"
     ]
    }
   ],
   "source": [
    "history = translator.fit_on_data(en_sequences, fr_sequences)"
   ]
  },
  {
   "cell_type": "code",
   "execution_count": 10,
   "metadata": {},
   "outputs": [
    {
     "data": {
      "image/png": "[encoded data removed]",
      "text/plain": [
       "<Figure size 432x288 with 2 Axes>"
      ]
     },
     "metadata": {
      "needs_background": "light"
     },
     "output_type": "display_data"
    }
   ],
   "source": [
    "plot_training_history(history)"
   ]
  },
  {
   "cell_type": "code",
   "execution_count": 31,
   "metadata": {},
   "outputs": [
    {
     "name": "stdout",
     "output_type": "stream",
     "text": [
      " l' inde est jamais belle au printemps mais il gã¨le habituellement en fã©vrier <PAD> <PAD> <PAD> <PAD> <PAD> <PAD> <PAD> <PAD>\n",
      "l' inde est jamais belle au printemps , mais il gÃ¨le habituellement en fÃ©vrier .\n"
     ]
    }
   ],
   "source": [
    "def translate(english_sentence, model):\n",
    "    english_token_sequence = en_tokenizer.texts_to_sequences([english_sentence])[0]\n",
    "    padding_len = max_en_len - len(english_token_sequence)\n",
    "    english_token_sequence = english_token_sequence + padding_len*[0]\n",
    "    french_token_sequence = model.predict(np.array(english_token_sequence))\n",
    "    french_sentence = token_seq_to_french_sentence(french_token_sequence)\n",
    "    return french_sentence\n",
    "    \n",
    "print(translate(en_vocab[291], translator))\n",
    "print(fr_vocab[291])"
   ]
  },
  {
   "cell_type": "code",
   "execution_count": null,
   "metadata": {},
   "outputs": [],
   "source": []
  }
 ],
 "metadata": {
  "kernelspec": {
   "display_name": "Python 3",
   "language": "python",
   "name": "python3"
  },
  "language_info": {
   "codemirror_mode": {
    "name": "ipython",
    "version": 3
   },
   "file_extension": ".py",
   "mimetype": "text/x-python",
   "name": "python",
   "nbconvert_exporter": "python",
   "pygments_lexer": "ipython3",
   "version": "3.5.6"
  }
 },
 "nbformat": 4,
 "nbformat_minor": 2
}
