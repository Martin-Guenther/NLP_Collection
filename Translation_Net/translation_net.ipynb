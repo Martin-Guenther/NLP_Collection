{
 "cells": [
  {
   "cell_type": "markdown",
   "metadata": {},
   "source": [
    "# Recurrent Neural Networks for Machine Translation\n",
    "\n",
    "The intention of this notebook ist to show implementation, training and use of recurrent neural networks for machine translation."
   ]
  },
  {
   "cell_type": "code",
   "execution_count": 1,
   "metadata": {},
   "outputs": [
    {
     "name": "stderr",
     "output_type": "stream",
     "text": [
      "Using TensorFlow backend.\n"
     ]
    }
   ],
   "source": [
    "from keras.preprocessing.text import Tokenizer, text_to_word_sequence\n",
    "from keras.preprocessing.sequence import pad_sequences\n",
    "\n",
    "from keras.initializers import Constant\n",
    "from keras.layers import Embedding, Dense, GRU, Input, Bidirectional, RepeatVector, TimeDistributed, LSTM\n",
    "from keras.models import Model\n",
    "from keras.optimizers import Adam\n",
    "from keras.utils import to_categorical\n",
    "\n",
    "import numpy as np\n",
    "import matplotlib.pyplot as plt\n",
    "\n",
    "from model import *"
   ]
  },
  {
   "cell_type": "markdown",
   "metadata": {},
   "source": [
    "At first, the dataset is loaded. It is split into two files, *small_vocab_en* with 137861 english sentences, and *small_vocab_fr* with the french translation of each sentence."
   ]
  },
  {
   "cell_type": "code",
   "execution_count": 2,
   "metadata": {},
   "outputs": [],
   "source": [
    "with open(\"./data/small_vocab_en.txt\") as f:\n",
    "    en_vocab = f.read()\n",
    "    \n",
    "with open(\"./data/small_vocab_fr.txt\") as f:\n",
    "    fr_vocab = f.read()\n",
    "    \n",
    "en_vocab = en_vocab.split('\\n')\n",
    "fr_vocab = fr_vocab.split('\\n')"
   ]
  },
  {
   "cell_type": "code",
   "execution_count": 3,
   "metadata": {},
   "outputs": [
    {
     "name": "stdout",
     "output_type": "stream",
     "text": [
      "Number of english sentences: 137861\n",
      "Number of french sentences: 137861\n",
      "\n",
      "Example:\n",
      "--------\n",
      "English: new jersey is sometimes quiet during autumn , and it is snowy in april .\n",
      "French:  new jersey est parfois calme pendant l' automne , et il est neigeux en avril .\n"
     ]
    }
   ],
   "source": [
    "print(\"Number of english sentences: {}\".format(len(en_vocab)))\n",
    "print(\"Number of french sentences: {}\".format(len(fr_vocab)))\n",
    "print(\"\\nExample:\\n--------\")\n",
    "print(\"English:\", en_vocab[0])\n",
    "print(\"French: \", fr_vocab[0])"
   ]
  },
  {
   "cell_type": "markdown",
   "metadata": {},
   "source": [
    "The next step is preprocess the data. The english as well as the french words are tokenized using the Keras Tokenizer. The tokenized sentences are stored to the lists `en_sequences` and `fr_sequences`. Then dictionaries that translate words to tokens and tokens back to words are genereated. A padding term is added to the token-to-word dictionaries because the token \"0\" is used for padding sentences to the same length but it has no corresponding word in the dataset. Also the function `token_seq_to_french_sentence()` to translate a sequence of tokens back to a french sentence is defined."
   ]
  },
  {
   "cell_type": "code",
   "execution_count": 4,
   "metadata": {},
   "outputs": [
    {
     "name": "stdout",
     "output_type": "stream",
     "text": [
      "Sentence in dataset:\n",
      "--------------------\n",
      " new jersey est parfois calme pendant l' automne , et il est neigeux en avril .\n",
      "\n",
      "Tokenized sentence:\n",
      "-------------------\n",
      " [ 35  34   1   8  67  37  11  24   6   3   1 112   2  50   0   0   0   0\n",
      "   0   0   0]\n",
      "\n",
      "From token back to sentence:\n",
      "-------------------------\n",
      "  new jersey est parfois calme pendant l' automne et il est neigeux en avril <PAD> <PAD> <PAD> <PAD> <PAD> <PAD> <PAD>\n"
     ]
    }
   ],
   "source": [
    "MAX_NUM_WORDS = 20000\n",
    "\n",
    "# tokenize english words\n",
    "en_tokenizer = Tokenizer(num_words=MAX_NUM_WORDS)\n",
    "en_tokenizer.fit_on_texts(en_vocab)\n",
    "en_sequences = pad_sequences(en_tokenizer.texts_to_sequences(en_vocab), maxlen=None, padding='post')\n",
    "max_en_len = en_sequences.shape[1]\n",
    "\n",
    "# tokenize french words\n",
    "fr_tokenizer = Tokenizer(num_words=MAX_NUM_WORDS)\n",
    "fr_tokenizer.fit_on_texts(fr_vocab)\n",
    "fr_sequences = pad_sequences(fr_tokenizer.texts_to_sequences(fr_vocab), maxlen=None, padding='post')\n",
    "max_fr_len = fr_sequences.shape[1]\n",
    "\n",
    "# englich word => token dictionary\n",
    "en_word_to_token = en_tokenizer.word_index\n",
    "en_word_to_token[\"<PAD>\"] = 0\n",
    "\n",
    "# token => english word dictionary\n",
    "en_token_to_word = {}\n",
    "for word, token in en_word_to_token.items():\n",
    "    en_token_to_word[token] = word\n",
    "\n",
    "# french word => token dictionary\n",
    "fr_word_to_token = fr_tokenizer.word_index\n",
    "fr_word_to_token[\"<PAD>\"] = 0\n",
    "\n",
    "# token => french word dictionary\n",
    "fr_token_to_word = {}\n",
    "for word, token in fr_word_to_token.items():\n",
    "    fr_token_to_word[token] = word\n",
    "\n",
    "\n",
    "def token_seq_to_french_sentence(seq):\n",
    "    sentence = \"\"\n",
    "    for word in [fr_token_to_word[token] for token in seq]:\n",
    "        sentence = sentence + \" \" + word\n",
    "    return sentence\n",
    "\n",
    "print(\"Sentence in dataset:\\n--------------------\\n\", fr_vocab[0])\n",
    "print(\"\\nTokenized sentence:\\n-------------------\\n\", fr_sequences[0])\n",
    "print(\"\\nFrom token back to sentence:\\n-------------------------\\n\", token_seq_to_french_sentence(fr_sequences[0]))"
   ]
  },
  {
   "cell_type": "markdown",
   "metadata": {},
   "source": [
    "The outputs of the neural translator network are the possibilities for each word in the french vocabulary. Therefore, the french sequences must be one-hot encoded so that they can be used to be compared to the word possibilities put out by the neural network."
   ]
  },
  {
   "cell_type": "code",
   "execution_count": 5,
   "metadata": {},
   "outputs": [
    {
     "name": "stdout",
     "output_type": "stream",
     "text": [
      "Shape of en_sequences: (137861, 15)\n",
      "shape of fr_sequences: (137861, 21, 346)\n"
     ]
    }
   ],
   "source": [
    "fr_sequences = to_categorical(fr_sequences)\n",
    "\n",
    "print(\"Shape of en_sequences: {}\".format(en_sequences.shape))\n",
    "print(\"shape of fr_sequences: {}\".format(fr_sequences.shape))\n",
    "pad_hot_encoded = np.array([1] + (fr_sequences[0].shape[1] - 1)*[0])\n"
   ]
  },
  {
   "cell_type": "code",
   "execution_count": 6,
   "metadata": {},
   "outputs": [
    {
     "name": "stdout",
     "output_type": "stream",
     "text": [
      "(346,)\n"
     ]
    }
   ],
   "source": [
    "print(pad_hot_encoded.shape)"
   ]
  },
  {
   "cell_type": "markdown",
   "metadata": {},
   "source": [
    "The neural networks used in this notebook use GloVe word embedding. The next step is to load the word vectors from file and prepare the embedding layer. "
   ]
  },
  {
   "cell_type": "code",
   "execution_count": 7,
   "metadata": {},
   "outputs": [
    {
     "name": "stdout",
     "output_type": "stream",
     "text": [
      "Loaded 400000 GloVe word vectors.\n"
     ]
    }
   ],
   "source": [
    "# Some parts in this cell are from or inspired by \"The Keras Blog: Using\n",
    "# pre-trained word embeddings in a Keras model\",\n",
    "# https://blog.keras.io/using-pre-trained-word-embeddings-in-a-keras-model.html\n",
    "\n",
    "# Load GloVe word vectors\n",
    "embeddings_index = {}\n",
    "with open(\"glove.6B.100d.txt\", encoding='utf8') as f:\n",
    "    for line in f:\n",
    "        values = line.split()\n",
    "        word = values[0]\n",
    "        coeffs = np.asarray(values[1:], dtype='float32')\n",
    "        embeddings_index[word] = coeffs\n",
    "\n",
    "print('Loaded {} GloVe word vectors.'.format(len(embeddings_index)))\n",
    "\n",
    "# Prepare embedding matrix\n",
    "embedding_dim = embeddings_index[\"sunday\"].shape[0]\n",
    "\n",
    "num_words = min(MAX_NUM_WORDS, len(en_word_to_token)) + 1\n",
    "embedding_matrix = np.zeros((num_words, embedding_dim))\n",
    "for word, i in en_word_to_token.items():\n",
    "    if i > MAX_NUM_WORDS:\n",
    "        continue\n",
    "    embedding_vector = embeddings_index.get(word)\n",
    "    if embedding_vector is not None:\n",
    "        # Words not found in embedding index will be all-zeros.\n",
    "        embedding_matrix[i] = embedding_vector\n",
    "\n",
    "# Load pre-trained word embeddings into an Embedding layer\n",
    "embedding_layer = Embedding(num_words,\n",
    "                            embedding_dim,\n",
    "                            embeddings_initializer=Constant(embedding_matrix),\n",
    "                            input_length=max_en_len,\n",
    "                            trainable=False)"
   ]
  },
  {
   "cell_type": "markdown",
   "metadata": {},
   "source": [
    "In the following cells, the neural network is defined and trained."
   ]
  },
  {
   "cell_type": "code",
   "execution_count": 13,
   "metadata": {},
   "outputs": [],
   "source": [
    "def translator_net(input_seq_len, embed_layer, output_seq_len, output_dim):\n",
    "    # encoder\n",
    "    model_input = Input(shape=(input_seq_len,), dtype='int32')\n",
    "    emb = embed_layer(model_input)\n",
    "    enc_gru = Bidirectional(GRU(units=256, return_sequences=False))(emb)\n",
    "    rep = RepeatVector(output_seq_len)(enc_gru)\n",
    "    # decoder\n",
    "    dec_gru = GRU(units=256, return_sequences=True)(rep)\n",
    "    out = TimeDistributed(Dense(output_dim, activation=\"softmax\"))(dec_gru)\n",
    "    \n",
    "    model = Model(model_input, out)\n",
    "    model.compile(loss=\"categorical_crossentropy\",\n",
    "                  optimizer=\"adam\",\n",
    "                  metrics=['accuracy'])\n",
    "    return model\n",
    "\n",
    "def translator_net_2(input_seq_len, embed_layer, output_seq_len, output_dim):\n",
    "    # encoder\n",
    "    enc_input = Input(shape=(input_seq_len,), dtype='int32')\n",
    "    #emb = embed_layer(enc_input)\n",
    "    emb = Embedding(len(en_token_to_word), 64, input_length=input_seq_len, mask_zero=False)(enc_input)\n",
    "    enc_lstm = LSTM(128, return_state=True, return_sequences=False)\n",
    "    enc_out, state_h, state_c = enc_lstm(emb)\n",
    "    enc_state = [state_h, state_c]\n",
    "    \n",
    "    # decoder\n",
    "    dec_input = Input(shape=(None, output_dim))\n",
    "    dec_lstm = LSTM(128, return_sequences=True, return_state=True)\n",
    "    dec_lstm_out, _, _ = dec_lstm(dec_input, initial_state=enc_state)\n",
    "    dec_dense = Dense(output_dim, activation=\"softmax\")\n",
    "    dec_out = dec_dense(dec_lstm_out)\n",
    "    \n",
    "    # training model\n",
    "    training_model = Model([enc_input, dec_input], dec_out)\n",
    "    \n",
    "    # inference encoder\n",
    "    inference_encoder = Model(enc_input, enc_state)\n",
    "    \n",
    "    # inference decoder\n",
    "    input_state_h = Input(shape=(128,))\n",
    "    input_state_c = Input(shape=(128,))\n",
    "    input_state = [input_state_h, input_state_c]\n",
    "    dec_lstm_out, state_h, state_c = dec_lstm(dec_input, initial_state=input_state)\n",
    "    dec_state = [state_h, state_c]\n",
    "    dec_out = dec_dense(dec_lstm_out)\n",
    "    \n",
    "    inference_decoder = Model([dec_input] + input_state, [dec_out] + dec_state)\n",
    "    \n",
    "    return training_model, inference_encoder, inference_decoder\n",
    "\n",
    "def translator_net_2_predict_sequence(infenc, infdec, input_sequence, n_steps, output_dim):\n",
    "    # encode\n",
    "    state = infenc.predict(input_sequence)\n",
    "    \n",
    "    # start of sequence input\n",
    "    target_seq = np.array([0.0 for _ in range(output_dim)]).reshape(1, 1, output_dim)\n",
    "    \n",
    "    # collect predictions\n",
    "    output = list()\n",
    "    for t in range(n_steps):\n",
    "        # predict next word\n",
    "        yhat, h, c = infdec.predict([target_seq] + state)\n",
    "        \n",
    "        output.append(yhat[0, 0, :])\n",
    "        \n",
    "        state = [h, c]\n",
    "        \n",
    "        target_seq = yhat\n",
    "    token_seq = [np.argmax(row) for row in output]\n",
    "    return np.array(token_seq)"
   ]
  },
  {
   "cell_type": "code",
   "execution_count": 9,
   "metadata": {},
   "outputs": [
    {
     "name": "stdout",
     "output_type": "stream",
     "text": [
      "_________________________________________________________________\n",
      "Layer (type)                 Output Shape              Param #   \n",
      "=================================================================\n",
      "input_1 (InputLayer)         (None, 15)                0         \n",
      "_________________________________________________________________\n",
      "embedding_1 (Embedding)      (None, 15, 100)           20100     \n",
      "_________________________________________________________________\n",
      "bidirectional_1 (Bidirection (None, 512)               548352    \n",
      "_________________________________________________________________\n",
      "repeat_vector_1 (RepeatVecto (None, 21, 512)           0         \n",
      "_________________________________________________________________\n",
      "gru_2 (GRU)                  (None, 21, 256)           590592    \n",
      "_________________________________________________________________\n",
      "time_distributed_1 (TimeDist (None, 21, 346)           88922     \n",
      "=================================================================\n",
      "Total params: 1,247,966\n",
      "Trainable params: 1,227,866\n",
      "Non-trainable params: 20,100\n",
      "_________________________________________________________________\n"
     ]
    }
   ],
   "source": [
    "model = translator_net(input_seq_len=max_en_len, embed_layer=embedding_layer,\n",
    "             output_seq_len=max_fr_len, output_dim=len(fr_token_to_word))\n",
    "model.summary()"
   ]
  },
  {
   "cell_type": "code",
   "execution_count": 12,
   "metadata": {},
   "outputs": [
    {
     "name": "stdout",
     "output_type": "stream",
     "text": [
      "Train on 103395 samples, validate on 34466 samples\n",
      "Epoch 1/20\n",
      "103395/103395 [==============================] - 61s 594us/step - loss: 2.5387 - acc: 0.4606 - val_loss: 2.0073 - val_acc: 0.5014\n",
      "Epoch 2/20\n",
      "103395/103395 [==============================] - 50s 483us/step - loss: 1.7764 - acc: 0.5360 - val_loss: 1.5902 - val_acc: 0.5709\n",
      "Epoch 3/20\n",
      "103395/103395 [==============================] - 50s 480us/step - loss: 1.3837 - acc: 0.6176 - val_loss: 1.2257 - val_acc: 0.6607\n",
      "Epoch 4/20\n",
      "103395/103395 [==============================] - 49s 478us/step - loss: 1.4614 - acc: 0.6093 - val_loss: 1.2731 - val_acc: 0.6465\n",
      "Epoch 5/20\n",
      "103395/103395 [==============================] - 49s 475us/step - loss: 1.0984 - acc: 0.6931 - val_loss: 1.0075 - val_acc: 0.7169\n",
      "Epoch 6/20\n",
      "103395/103395 [==============================] - 49s 477us/step - loss: 0.9515 - acc: 0.7280 - val_loss: 0.9028 - val_acc: 0.7403\n",
      "Epoch 7/20\n",
      "103395/103395 [==============================] - 49s 478us/step - loss: 1.1972 - acc: 0.6815 - val_loss: 1.0136 - val_acc: 0.7103\n",
      "Epoch 8/20\n",
      "103395/103395 [==============================] - 49s 478us/step - loss: 0.8810 - acc: 0.7437 - val_loss: 0.8121 - val_acc: 0.7609\n",
      "Epoch 9/20\n",
      "103395/103395 [==============================] - 49s 471us/step - loss: 1.2082 - acc: 0.6847 - val_loss: 0.8574 - val_acc: 0.7579\n",
      "Epoch 10/20\n",
      "103395/103395 [==============================] - 49s 474us/step - loss: 0.7589 - acc: 0.7833 - val_loss: 0.6941 - val_acc: 0.8017\n",
      "Epoch 11/20\n",
      "103395/103395 [==============================] - 49s 478us/step - loss: 0.6552 - acc: 0.8122 - val_loss: 0.6084 - val_acc: 0.8262\n",
      "Epoch 12/20\n",
      "103395/103395 [==============================] - 50s 484us/step - loss: 0.8181 - acc: 0.7868 - val_loss: 1.5173 - val_acc: 0.5674\n",
      "Epoch 13/20\n",
      "103395/103395 [==============================] - 49s 472us/step - loss: 0.7973 - acc: 0.7739 - val_loss: 0.5667 - val_acc: 0.8385\n",
      "Epoch 14/20\n",
      "103395/103395 [==============================] - 50s 485us/step - loss: 0.5190 - acc: 0.8535 - val_loss: 0.4816 - val_acc: 0.8656\n",
      "Epoch 15/20\n",
      "103395/103395 [==============================] - 49s 477us/step - loss: 0.4497 - acc: 0.8762 - val_loss: 0.4292 - val_acc: 0.8841\n",
      "Epoch 16/20\n",
      "103395/103395 [==============================] - 50s 482us/step - loss: 0.3959 - acc: 0.8937 - val_loss: 0.3782 - val_acc: 0.8996\n",
      "Epoch 17/20\n",
      "103395/103395 [==============================] - 49s 477us/step - loss: 0.3511 - acc: 0.9068 - val_loss: 0.3366 - val_acc: 0.9120\n",
      "Epoch 18/20\n",
      "103395/103395 [==============================] - 50s 481us/step - loss: 0.3168 - acc: 0.9169 - val_loss: 0.3008 - val_acc: 0.9217\n",
      "Epoch 19/20\n",
      "103395/103395 [==============================] - 50s 483us/step - loss: 0.5421 - acc: 0.8526 - val_loss: 0.3248 - val_acc: 0.9160\n",
      "Epoch 20/20\n",
      "103395/103395 [==============================] - 50s 480us/step - loss: 0.2806 - acc: 0.9281 - val_loss: 0.2680 - val_acc: 0.9312\n"
     ]
    }
   ],
   "source": [
    "history = model.fit(en_sequences, fr_sequences, validation_split=0.25, shuffle=True,\n",
    "                    batch_size=1024, epochs=20, verbose=1)"
   ]
  },
  {
   "cell_type": "code",
   "execution_count": 9,
   "metadata": {},
   "outputs": [],
   "source": [
    "def plot_training_history(history, model_name=\"model\"):\n",
    "    # Plot training and validation accuracy values\n",
    "    plt.subplot(121)\n",
    "    plt.plot(history.history['acc'])\n",
    "    plt.plot(history.history['val_acc'])\n",
    "    plt.title('Prediction accuracy of {}'.format(model_name))\n",
    "    plt.ylabel('Accuracy')\n",
    "    plt.xlabel('Training Epoch')\n",
    "    plt.legend(['Train', 'Test'], loc='upper left')\n",
    "    #plt.show()\n",
    "    \n",
    "    # Plot training and validation loss values\n",
    "    plt.subplot(122)\n",
    "    plt.plot(history.history['loss'])\n",
    "    plt.plot(history.history['val_loss'])\n",
    "    plt.title('Prediction loss of {}'.format(model_name))\n",
    "    plt.ylabel('Loss')\n",
    "    plt.xlabel('Training Epoch')\n",
    "    plt.legend(['Train', 'Test'], loc='upper left')\n",
    "    plt.tight_layout()\n",
    "    plt.show()"
   ]
  },
  {
   "cell_type": "code",
   "execution_count": 19,
   "metadata": {},
   "outputs": [
    {
     "data": {
      "image/png": "[encoded data removed]",
      "text/plain": [
       "<Figure size 432x288 with 2 Axes>"
      ]
     },
     "metadata": {
      "needs_background": "light"
     },
     "output_type": "display_data"
    }
   ],
   "source": [
    "plot_training_history(history)"
   ]
  },
  {
   "cell_type": "code",
   "execution_count": 10,
   "metadata": {},
   "outputs": [
    {
     "name": "stdout",
     "output_type": "stream",
     "text": [
      "(346,)\n",
      "(346,)\n",
      "[35, 34, 1, 8, 67, 37, 11, 24, 6, 3, 1, 112, 2, 50, 0, 0, 0, 0, 0, 0, 0]\n",
      "[0, 35, 34, 1, 8, 67, 37, 11, 24, 6, 3, 1, 112, 2, 50, 0, 0, 0, 0, 0, 0]\n"
     ]
    }
   ],
   "source": [
    "shifted_fr_sequences = np.copy(fr_sequences)\n",
    "for seq in shifted_fr_sequences:\n",
    "    print(pad_hot_encoded.shape)\n",
    "    seq[...] = np.vstack((pad_hot_encoded, seq[:-1]))\n",
    "    print(seq[0].shape)\n",
    "    break\n",
    "t = [np.argmax(s) for s in fr_sequences[0]]\n",
    "t_s = [np.argmax(s) for s in shifted_fr_sequences[0]]\n",
    "print(t)\n",
    "print(t_s)\n",
    "#shifted_fr_sequences = "
   ]
  },
  {
   "cell_type": "code",
   "execution_count": null,
   "metadata": {},
   "outputs": [],
   "source": []
  },
  {
   "cell_type": "code",
   "execution_count": 14,
   "metadata": {},
   "outputs": [
    {
     "name": "stdout",
     "output_type": "stream",
     "text": [
      "__________________________________________________________________________________________________\n",
      "Layer (type)                    Output Shape         Param #     Connected to                     \n",
      "==================================================================================================\n",
      "input_2 (InputLayer)            (None, 15)           0                                            \n",
      "__________________________________________________________________________________________________\n",
      "embedding_3 (Embedding)         (None, 15, 64)       12800       input_2[0][0]                    \n",
      "__________________________________________________________________________________________________\n",
      "input_3 (InputLayer)            (None, None, 346)    0                                            \n",
      "__________________________________________________________________________________________________\n",
      "lstm_2 (LSTM)                   [(None, 128), (None, 98816       embedding_3[0][0]                \n",
      "__________________________________________________________________________________________________\n",
      "lstm_3 (LSTM)                   [(None, None, 128),  243200      input_3[0][0]                    \n",
      "                                                                 lstm_2[0][1]                     \n",
      "                                                                 lstm_2[0][2]                     \n",
      "__________________________________________________________________________________________________\n",
      "dense_1 (Dense)                 (None, None, 346)    44634       lstm_3[0][0]                     \n",
      "==================================================================================================\n",
      "Total params: 399,450\n",
      "Trainable params: 399,450\n",
      "Non-trainable params: 0\n",
      "__________________________________________________________________________________________________\n",
      "_________________________________________________________________\n",
      "Layer (type)                 Output Shape              Param #   \n",
      "=================================================================\n",
      "input_2 (InputLayer)         (None, 15)                0         \n",
      "_________________________________________________________________\n",
      "embedding_3 (Embedding)      (None, 15, 64)            12800     \n",
      "_________________________________________________________________\n",
      "lstm_2 (LSTM)                [(None, 128), (None, 128) 98816     \n",
      "=================================================================\n",
      "Total params: 111,616\n",
      "Trainable params: 111,616\n",
      "Non-trainable params: 0\n",
      "_________________________________________________________________\n",
      "__________________________________________________________________________________________________\n",
      "Layer (type)                    Output Shape         Param #     Connected to                     \n",
      "==================================================================================================\n",
      "input_3 (InputLayer)            (None, None, 346)    0                                            \n",
      "__________________________________________________________________________________________________\n",
      "input_4 (InputLayer)            (None, 128)          0                                            \n",
      "__________________________________________________________________________________________________\n",
      "input_5 (InputLayer)            (None, 128)          0                                            \n",
      "__________________________________________________________________________________________________\n",
      "lstm_3 (LSTM)                   [(None, None, 128),  243200      input_3[0][0]                    \n",
      "                                                                 input_4[0][0]                    \n",
      "                                                                 input_5[0][0]                    \n",
      "__________________________________________________________________________________________________\n",
      "dense_1 (Dense)                 (None, None, 346)    44634       lstm_3[1][0]                     \n",
      "==================================================================================================\n",
      "Total params: 287,834\n",
      "Trainable params: 287,834\n",
      "Non-trainable params: 0\n",
      "__________________________________________________________________________________________________\n"
     ]
    }
   ],
   "source": [
    "training_model, inf_enc, inf_dec = translator_net_2(input_seq_len=max_en_len, embed_layer=embedding_layer,\n",
    "             output_seq_len=max_fr_len, output_dim=len(fr_token_to_word))\n",
    "\n",
    "training_model.summary()\n",
    "inf_enc.summary()\n",
    "inf_dec.summary()\n",
    "training_model.compile(loss=\"categorical_crossentropy\",\n",
    "                  optimizer=\"adam\",\n",
    "                  metrics=['accuracy'])"
   ]
  },
  {
   "cell_type": "code",
   "execution_count": 15,
   "metadata": {},
   "outputs": [
    {
     "name": "stdout",
     "output_type": "stream",
     "text": [
      "Train on 103395 samples, validate on 34466 samples\n",
      "Epoch 1/10\n",
      "103395/103395 [==============================] - 35s 334us/step - loss: 3.1608 - acc: 0.4341 - val_loss: 2.2936 - val_acc: 0.5213\n",
      "Epoch 2/10\n",
      "103395/103395 [==============================] - 28s 271us/step - loss: 1.9201 - acc: 0.5813 - val_loss: 1.5680 - val_acc: 0.6334\n",
      "Epoch 3/10\n",
      "103395/103395 [==============================] - 31s 300us/step - loss: 1.2352 - acc: 0.7202 - val_loss: 0.9176 - val_acc: 0.8172\n",
      "Epoch 4/10\n",
      "103395/103395 [==============================] - 31s 302us/step - loss: 0.6303 - acc: 0.9129 - val_loss: 0.3831 - val_acc: 0.9637\n",
      "Epoch 5/10\n",
      "103395/103395 [==============================] - 31s 302us/step - loss: 0.2453 - acc: 0.9799 - val_loss: 0.1554 - val_acc: 0.9876\n",
      "Epoch 6/10\n",
      "103395/103395 [==============================] - 31s 303us/step - loss: 0.1121 - acc: 0.9912 - val_loss: 0.0831 - val_acc: 0.9940\n",
      "Epoch 7/10\n",
      "103395/103395 [==============================] - 31s 302us/step - loss: 0.0643 - acc: 0.9956 - val_loss: 0.0518 - val_acc: 0.9964\n",
      "Epoch 8/10\n",
      "103395/103395 [==============================] - 31s 299us/step - loss: 0.0418 - acc: 0.9974 - val_loss: 0.0352 - val_acc: 0.9978\n",
      "Epoch 9/10\n",
      "103395/103395 [==============================] - 31s 302us/step - loss: 0.0291 - acc: 0.9983 - val_loss: 0.0253 - val_acc: 0.9984\n",
      "Epoch 10/10\n",
      "103395/103395 [==============================] - 31s 303us/step - loss: 0.0213 - acc: 0.9987 - val_loss: 0.0190 - val_acc: 0.9988\n"
     ]
    }
   ],
   "source": [
    "history = training_model.fit([en_sequences, shifted_fr_sequences], fr_sequences, validation_split=0.25, shuffle=True,\n",
    "                    batch_size=1024, epochs=10, verbose=1)"
   ]
  },
  {
   "cell_type": "code",
   "execution_count": 16,
   "metadata": {},
   "outputs": [
    {
     "data": {
      "image/png": "[encoded data removed]",
      "text/plain": [
       "<Figure size 432x288 with 2 Axes>"
      ]
     },
     "metadata": {
      "needs_background": "light"
     },
     "output_type": "display_data"
    }
   ],
   "source": [
    "plot_training_history(history)"
   ]
  },
  {
   "cell_type": "code",
   "execution_count": 18,
   "metadata": {},
   "outputs": [
    {
     "name": "stdout",
     "output_type": "stream",
     "text": [
      " les jersey est est est en en en mais mais il il est <PAD> <PAD> <PAD> <PAD> <PAD> <PAD> <PAD> <PAD>\n",
      "new jersey est parfois calme pendant l' automne , et il est neigeux en avril .\n"
     ]
    }
   ],
   "source": [
    "#print(en_sequences[0].shape)\n",
    "p = translator_net_2_predict_sequence(inf_enc, inf_dec, en_sequences[0].reshape(1,-1),max_fr_len, len(fr_token_to_word))\n",
    "#out = [np.argmax(row) for row in p]\n",
    "print(token_seq_to_french_sentence(p))\n",
    "print(fr_vocab[0])"
   ]
  },
  {
   "cell_type": "code",
   "execution_count": 19,
   "metadata": {},
   "outputs": [
    {
     "name": "stdout",
     "output_type": "stream",
     "text": [
      "(21, 346)\n"
     ]
    }
   ],
   "source": [
    "print(fr_sequences[0].shape)"
   ]
  },
  {
   "cell_type": "code",
   "execution_count": 20,
   "metadata": {},
   "outputs": [
    {
     "name": "stdout",
     "output_type": "stream",
     "text": [
      "(1, 3)\n"
     ]
    }
   ],
   "source": [
    "a = np.array([1,2,3])\n",
    "a=a.reshape(1,-1)\n",
    "print(a.shape)"
   ]
  },
  {
   "cell_type": "code",
   "execution_count": 25,
   "metadata": {},
   "outputs": [],
   "source": []
  },
  {
   "cell_type": "code",
   "execution_count": 8,
   "metadata": {},
   "outputs": [],
   "source": [
    "tr_model, inf_enc, inf_dec = encdec_model(input_shape=en_sequences.shape, output_sequence_length=max_fr_len, english_vocab_size=len(en_token_to_word), french_vocab_size=len(fr_token_to_word))"
   ]
  },
  {
   "cell_type": "code",
   "execution_count": 12,
   "metadata": {
    "collapsed": true
   },
   "outputs": [
    {
     "name": "stdout",
     "output_type": "stream",
     "text": [
      "__________________________________________________________________________________________________\n",
      "Layer (type)                    Output Shape         Param #     Connected to                     \n",
      "==================================================================================================\n",
      "encoder_input (InputLayer)      (None, 15)           0                                            \n",
      "__________________________________________________________________________________________________\n",
      "embedding_2 (Embedding)         (None, 15, 64)       12800       encoder_input[0][0]              \n",
      "__________________________________________________________________________________________________\n",
      "decoder_input (InputLayer)      (None, None, 346)    0                                            \n",
      "__________________________________________________________________________________________________\n",
      "encoder_lstm (LSTM)             [(None, 128), (None, 98816       embedding_2[0][0]                \n",
      "__________________________________________________________________________________________________\n",
      "decoder_lstm (LSTM)             [(None, None, 128),  243200      decoder_input[0][0]              \n",
      "                                                                 encoder_lstm[0][1]               \n",
      "                                                                 encoder_lstm[0][2]               \n",
      "__________________________________________________________________________________________________\n",
      "dense_1 (Dense)                 (None, None, 346)    44634       decoder_lstm[0][0]               \n",
      "==================================================================================================\n",
      "Total params: 399,450\n",
      "Trainable params: 399,450\n",
      "Non-trainable params: 0\n",
      "__________________________________________________________________________________________________\n"
     ]
    }
   ],
   "source": [
    "tr_model.summary()\n",
    "learning_rate = 0.01\n",
    "tr_model.compile(loss=\"categorical_crossentropy\",\n",
    "              optimizer=Adam(learning_rate),\n",
    "              metrics=['accuracy'])"
   ]
  },
  {
   "cell_type": "code",
   "execution_count": 14,
   "metadata": {},
   "outputs": [
    {
     "name": "stdout",
     "output_type": "stream",
     "text": [
      "Train on 110288 samples, validate on 27573 samples\n",
      "Epoch 1/10\n",
      "110288/110288 [==============================] - 39s 350us/step - loss: 1.5238 - acc: 0.7192 - val_loss: 0.1269 - val_acc: 0.9824\n",
      "Epoch 2/10\n",
      "110288/110288 [==============================] - 32s 287us/step - loss: 0.0402 - acc: 0.9954 - val_loss: 0.0123 - val_acc: 0.9990\n",
      "Epoch 3/10\n",
      "110288/110288 [==============================] - 32s 292us/step - loss: 0.0071 - acc: 0.9995 - val_loss: 0.0044 - val_acc: 0.9998\n",
      "Epoch 4/10\n",
      "110288/110288 [==============================] - 32s 292us/step - loss: 0.0030 - acc: 0.9999 - val_loss: 0.0023 - val_acc: 0.9999\n",
      "Epoch 5/10\n",
      "110288/110288 [==============================] - 32s 293us/step - loss: 0.0017 - acc: 0.9999 - val_loss: 0.0015 - val_acc: 0.9999\n",
      "Epoch 6/10\n",
      "110288/110288 [==============================] - 32s 290us/step - loss: 0.0011 - acc: 1.0000 - val_loss: 0.0011 - val_acc: 0.9999\n",
      "Epoch 7/10\n",
      "110288/110288 [==============================] - 32s 294us/step - loss: 7.9112e-04 - acc: 1.0000 - val_loss: 9.1216e-04 - val_acc: 1.0000\n",
      "Epoch 8/10\n",
      "110288/110288 [==============================] - 33s 298us/step - loss: 6.0922e-04 - acc: 1.0000 - val_loss: 7.7102e-04 - val_acc: 1.0000\n",
      "Epoch 9/10\n",
      "110288/110288 [==============================] - 32s 292us/step - loss: 4.9123e-04 - acc: 1.0000 - val_loss: 6.6890e-04 - val_acc: 1.0000\n",
      "Epoch 10/10\n",
      "110288/110288 [==============================] - 32s 292us/step - loss: 4.0382e-04 - acc: 1.0000 - val_loss: 6.1599e-04 - val_acc: 1.0000\n"
     ]
    },
    {
     "data": {
      "text/plain": [
       "<keras.callbacks.History at 0x22d2a164e80>"
      ]
     },
     "execution_count": 14,
     "metadata": {},
     "output_type": "execute_result"
    }
   ],
   "source": [
    "tr_model.fit([en_sequences, shifted_fr_sequences], fr_sequences, batch_size=1024, epochs=10, validation_split=0.2)\n"
   ]
  },
  {
   "cell_type": "code",
   "execution_count": 21,
   "metadata": {},
   "outputs": [],
   "source": [
    "p = predict_sequence(inf_enc, inf_dec, en_sequences[1].reshape(1,-1), max_fr_len, len(fr_token_to_word))"
   ]
  },
  {
   "cell_type": "code",
   "execution_count": 22,
   "metadata": {},
   "outputs": [
    {
     "name": "stdout",
     "output_type": "stream",
     "text": [
      " les les est est est est est est est est est est est est est est est <PAD> <PAD> <PAD> <PAD>\n"
     ]
    }
   ],
   "source": [
    "out = [np.argmax(row) for row in p]\n",
    "print(token_seq_to_french_sentence(out))"
   ]
  },
  {
   "cell_type": "code",
   "execution_count": null,
   "metadata": {},
   "outputs": [],
   "source": []
  }
 ],
 "metadata": {
  "kernelspec": {
   "display_name": "Python 3",
   "language": "python",
   "name": "python3"
  },
  "language_info": {
   "codemirror_mode": {
    "name": "ipython",
    "version": 3
   },
   "file_extension": ".py",
   "mimetype": "text/x-python",
   "name": "python",
   "nbconvert_exporter": "python",
   "pygments_lexer": "ipython3",
   "version": "3.5.6"
  }
 },
 "nbformat": 4,
 "nbformat_minor": 2
}
