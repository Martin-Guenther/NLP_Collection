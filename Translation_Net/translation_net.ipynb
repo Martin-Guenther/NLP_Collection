{
 "cells": [
  {
   "cell_type": "markdown",
   "metadata": {},
   "source": [
    "# Recurrent Neural Networks for Machine Translation\n",
    "\n",
    "The intention of this notebook ist to show implementation, training and use of recurrent neural networks for machine translation."
   ]
  },
  {
   "cell_type": "code",
   "execution_count": 1,
   "metadata": {},
   "outputs": [
    {
     "name": "stderr",
     "output_type": "stream",
     "text": [
      "Using TensorFlow backend.\n"
     ]
    }
   ],
   "source": [
    "from keras.preprocessing.text import Tokenizer, text_to_word_sequence\n",
    "from keras.preprocessing.sequence import pad_sequences\n",
    "\n",
    "from keras.initializers import Constant\n",
    "from keras.layers import Embedding, Dense, GRU, Input, Bidirectional, RepeatVector, TimeDistributed, LSTM\n",
    "from keras.models import Model\n",
    "from keras.optimizers import Adam\n",
    "from keras.utils import to_categorical\n",
    "\n",
    "import numpy as np\n",
    "import matplotlib.pyplot as plt"
   ]
  },
  {
   "cell_type": "markdown",
   "metadata": {},
   "source": [
    "At first, the dataset is loaded. It is split into two files, *small_vocab_en* with 137861 english sentences, and *small_vocab_fr* with the french translation of each sentence."
   ]
  },
  {
   "cell_type": "code",
   "execution_count": 2,
   "metadata": {},
   "outputs": [],
   "source": [
    "with open(\"./data/small_vocab_en.txt\") as f:\n",
    "    en_vocab = f.read()\n",
    "    \n",
    "with open(\"./data/small_vocab_fr.txt\") as f:\n",
    "    fr_vocab = f.read()\n",
    "    \n",
    "en_vocab = en_vocab.split('\\n')\n",
    "fr_vocab = fr_vocab.split('\\n')"
   ]
  },
  {
   "cell_type": "code",
   "execution_count": 3,
   "metadata": {},
   "outputs": [
    {
     "name": "stdout",
     "output_type": "stream",
     "text": [
      "Number of english sentences: 137861\n",
      "Number of french sentences: 137861\n",
      "\n",
      "Example:\n",
      "--------\n",
      "English: new jersey is sometimes quiet during autumn , and it is snowy in april .\n",
      "French:  new jersey est parfois calme pendant l' automne , et il est neigeux en avril .\n"
     ]
    }
   ],
   "source": [
    "print(\"Number of english sentences: {}\".format(len(en_vocab)))\n",
    "print(\"Number of french sentences: {}\".format(len(fr_vocab)))\n",
    "print(\"\\nExample:\\n--------\")\n",
    "print(\"English:\", en_vocab[0])\n",
    "print(\"French: \", fr_vocab[0])"
   ]
  },
  {
   "cell_type": "markdown",
   "metadata": {},
   "source": [
    "The next step is to preprocess the data. The english as well as the french words are tokenized using the Keras Tokenizer. The tokenized sentences are stored to the lists `en_sequences` and `fr_sequences`. Then dictionaries that translate words to tokens and tokens back to words are genereated. A padding term is added to the token-to-word dictionaries because the token \"0\" is used for padding sentences to the same length but it has no corresponding word in the dataset. Also the function `token_seq_to_french_sentence()` to translate a sequence of tokens back to a french sentence is defined."
   ]
  },
  {
   "cell_type": "code",
   "execution_count": 4,
   "metadata": {},
   "outputs": [
    {
     "name": "stdout",
     "output_type": "stream",
     "text": [
      "Sentence in dataset:\n",
      "--------------------\n",
      " new jersey est parfois calme pendant l' automne , et il est neigeux en avril .\n",
      "\n",
      "Tokenized sentence:\n",
      "-------------------\n",
      " [ 35  34   1   8  67  37  11  24   6   3   1 112   2  50   0   0   0   0\n",
      "   0   0   0]\n",
      "\n",
      "From token back to sentence:\n",
      "-------------------------\n",
      "  new jersey est parfois calme pendant l' automne et il est neigeux en avril <PAD> <PAD> <PAD> <PAD> <PAD> <PAD> <PAD>\n"
     ]
    }
   ],
   "source": [
    "MAX_NUM_WORDS = 20000\n",
    "\n",
    "# tokenize english words\n",
    "en_tokenizer = Tokenizer(num_words=MAX_NUM_WORDS)\n",
    "en_tokenizer.fit_on_texts(en_vocab)\n",
    "en_sequences = pad_sequences(en_tokenizer.texts_to_sequences(en_vocab), maxlen=None, padding='post')\n",
    "max_en_len = en_sequences.shape[1]\n",
    "\n",
    "# tokenize french words\n",
    "fr_tokenizer = Tokenizer(num_words=MAX_NUM_WORDS)\n",
    "fr_tokenizer.fit_on_texts(fr_vocab)\n",
    "fr_sequences = pad_sequences(fr_tokenizer.texts_to_sequences(fr_vocab), maxlen=None, padding='post')\n",
    "max_fr_len = fr_sequences.shape[1]\n",
    "\n",
    "# englich word => token dictionary\n",
    "en_word_to_token = en_tokenizer.word_index\n",
    "en_word_to_token[\"<PAD>\"] = 0\n",
    "\n",
    "# token => english word dictionary\n",
    "en_token_to_word = {}\n",
    "for word, token in en_word_to_token.items():\n",
    "    en_token_to_word[token] = word\n",
    "\n",
    "# french word => token dictionary\n",
    "fr_word_to_token = fr_tokenizer.word_index\n",
    "fr_word_to_token[\"<PAD>\"] = 0\n",
    "\n",
    "# token => french word dictionary\n",
    "fr_token_to_word = {}\n",
    "for word, token in fr_word_to_token.items():\n",
    "    fr_token_to_word[token] = word\n",
    "\n",
    "\n",
    "def token_seq_to_french_sentence(seq):\n",
    "    sentence = \"\"\n",
    "    for word in [fr_token_to_word[token] for token in seq]:\n",
    "        sentence = sentence + \" \" + word\n",
    "    return sentence\n",
    "\n",
    "print(\"Sentence in dataset:\\n--------------------\\n\", fr_vocab[0])\n",
    "print(\"\\nTokenized sentence:\\n-------------------\\n\", fr_sequences[0])\n",
    "print(\"\\nFrom token back to sentence:\\n-------------------------\\n\", token_seq_to_french_sentence(fr_sequences[0]))"
   ]
  },
  {
   "cell_type": "markdown",
   "metadata": {},
   "source": [
    "The outputs of the neural translator network are the possibilities for each word in the french vocabulary. Therefore, the french sequences must be one-hot encoded so that they can be used to be compared to the word possibilities put out by the neural network."
   ]
  },
  {
   "cell_type": "code",
   "execution_count": 5,
   "metadata": {},
   "outputs": [
    {
     "name": "stdout",
     "output_type": "stream",
     "text": [
      "Shape of en_sequences: (137861, 15)\n",
      "shape of fr_sequences: (137861, 21, 346)\n"
     ]
    }
   ],
   "source": [
    "fr_sequences = to_categorical(fr_sequences)\n",
    "\n",
    "print(\"Shape of en_sequences: {}\".format(en_sequences.shape))\n",
    "print(\"shape of fr_sequences: {}\".format(fr_sequences.shape))"
   ]
  },
  {
   "cell_type": "markdown",
   "metadata": {},
   "source": [
    "The neural networks, defined latet in this notebook, use GloVe word embedding. The next step is to load the word vectors from file and prepare the embedding layer. "
   ]
  },
  {
   "cell_type": "code",
   "execution_count": 6,
   "metadata": {},
   "outputs": [
    {
     "name": "stdout",
     "output_type": "stream",
     "text": [
      "Loaded 400000 GloVe word vectors.\n"
     ]
    }
   ],
   "source": [
    "# Some parts in this cell are from or inspired by \"The Keras Blog: Using\n",
    "# pre-trained word embeddings in a Keras model\",\n",
    "# https://blog.keras.io/using-pre-trained-word-embeddings-in-a-keras-model.html\n",
    "\n",
    "# Load GloVe word vectors\n",
    "embeddings_index = {}\n",
    "with open(\"glove.6B.100d.txt\", encoding='utf8') as f:\n",
    "    for line in f:\n",
    "        values = line.split()\n",
    "        word = values[0]\n",
    "        coeffs = np.asarray(values[1:], dtype='float32')\n",
    "        embeddings_index[word] = coeffs\n",
    "\n",
    "print('Loaded {} GloVe word vectors.'.format(len(embeddings_index)))\n",
    "\n",
    "# Prepare embedding matrix\n",
    "embedding_dim = embeddings_index[\"sunday\"].shape[0]\n",
    "\n",
    "num_words = min(MAX_NUM_WORDS, len(en_word_to_token)) + 1\n",
    "embedding_matrix = np.zeros((num_words, embedding_dim))\n",
    "for word, i in en_word_to_token.items():\n",
    "    if i > MAX_NUM_WORDS:\n",
    "        continue\n",
    "    embedding_vector = embeddings_index.get(word)\n",
    "    if embedding_vector is not None:\n",
    "        # Words not found in embedding index will be all-zeros.\n",
    "        embedding_matrix[i] = embedding_vector\n",
    "\n",
    "# Load pre-trained word embeddings into an Embedding layer\n",
    "embedding_layer = Embedding(num_words,\n",
    "                            embedding_dim,\n",
    "                            embeddings_initializer=Constant(embedding_matrix),\n",
    "                            input_length=max_en_len,\n",
    "                            trainable=False)"
   ]
  },
  {
   "cell_type": "code",
   "execution_count": 7,
   "metadata": {},
   "outputs": [],
   "source": [
    "def plot_training_history(history, model_name=\"model\"):\n",
    "    \"\"\"Plots the prediction accuracy and the prediction loss of a trained model\n",
    "    \n",
    "    Args:\n",
    "        history: Training history of the model.\n",
    "        model_name: Name of the trained model. Only used to give the plot a title. \n",
    "    \"\"\"\n",
    "    # Plot training and validation accuracy values\n",
    "    plt.subplot(121)\n",
    "    plt.plot(history.history['acc'])\n",
    "    plt.plot(history.history['val_acc'])\n",
    "    plt.title('Prediction accuracy of {}'.format(model_name))\n",
    "    plt.ylabel('Accuracy')\n",
    "    plt.xlabel('Training Epoch')\n",
    "    plt.legend(['Train', 'Test'], loc='upper left')\n",
    "    #plt.show()\n",
    "    \n",
    "    # Plot training and validation loss values\n",
    "    plt.subplot(122)\n",
    "    plt.plot(history.history['loss'])\n",
    "    plt.plot(history.history['val_loss'])\n",
    "    plt.title('Prediction loss of {}'.format(model_name))\n",
    "    plt.ylabel('Loss')\n",
    "    plt.xlabel('Training Epoch')\n",
    "    plt.legend(['Train', 'Test'], loc='upper left')\n",
    "    plt.tight_layout()\n",
    "    plt.show()"
   ]
  },
  {
   "cell_type": "markdown",
   "metadata": {},
   "source": [
    "### Model 1 ###"
   ]
  },
  {
   "cell_type": "code",
   "execution_count": 8,
   "metadata": {},
   "outputs": [],
   "source": [
    "class TranslatorNet1:\n",
    "    \"\"\"Sequence to sequence machine translation model using RepeatVector\n",
    "    \n",
    "    This model uses an encoder with a bidirectional GRU layer. After the\n",
    "    complete input sequence is fed into the encoder, the GRU layer returns\n",
    "    a vector. This vector is repeated to a matrix with as many rows as the\n",
    "    output sequence length. The this matrix is fed into\n",
    "    the decoder. The decoder is a GRU layer followed by a Dense layer.\n",
    "    For each vector that is fed into the decoder, it produces an output\n",
    "    vector that is fed into the dense layer and produces one element of\n",
    "    the output sequence.\n",
    "    \n",
    "    Attributes:\n",
    "        model: The implementation of the neural network.\n",
    "    \"\"\"\n",
    "    \n",
    "    self.model = None\n",
    "    \n",
    "    \n",
    "    def __init__(self, input_sequence_length, output_sequence_length,\n",
    "                 output_dimension, embedding_layer=None, input_dimension=None):\n",
    "        \"\"\"Inits the neural network\n",
    "        \n",
    "        Args:\n",
    "            input_sequence_length: Number of elements in the input sequence\n",
    "                (all input sequences must be of a fix length).\n",
    "            output_sequence_length: Number of elements in the output sequence\n",
    "                (all output sequences must be of a fix length).\n",
    "            output_dimension: Number of possible output categories, here it is\n",
    "                the number of different words in the french vocabulary.\n",
    "            embedding_layer: A given keras.layers.Embedding object that is used\n",
    "                for the word embedding. If this is None, the model uses an untrained\n",
    "                embedding layer and trains it during training phase.\n",
    "            input_dimension: Number of input categories (different words in the\n",
    "                english vocabulary). Can be None if an embedding layer is provided.\n",
    "        \"\"\"\n",
    "        # encoder\n",
    "        model_input = Input(shape=(input_sequence_length,), dtype='int32')\n",
    "        if embedding_layer is None:\n",
    "            if input_dimension is None:\n",
    "                raise ValueError(\"If embedding_layer is None, input_dimension must be specified.\")\n",
    "            emb = Embedding(input_dimension, 64, input_length=input_sequence_length,\n",
    "                            mask_zero=False)(model_input)\n",
    "        else:\n",
    "            emb = embedding_layer(model_input)\n",
    "        enc_gru = Bidirectional(GRU(units=256, return_sequences=False))(emb)\n",
    "        rep = RepeatVector(output_sequence_length)(enc_gru)\n",
    "        # decoder\n",
    "        dec_gru = GRU(units=256, return_sequences=True)(rep)\n",
    "        out = TimeDistributed(Dense(output_dimension, activation=\"softmax\"))(dec_gru)\n",
    "        self.model = Model(model_input, out)\n",
    "        self.model.compile(loss=\"categorical_crossentropy\",\n",
    "                           optimizer=\"adam\", metrics=['accuracy'])\n",
    "        \n",
    "    def fit_on_data(self, input_sequences, output_sequences, epochs=10, validation_split=0.2):\n",
    "        \"\"\"Trains and evaluates the model on a given dataset\n",
    "        \n",
    "        Args:\n",
    "            input_sequences: Input to the model for training and evaluation.\n",
    "            output_sequences: Correct output corresponding to the input.\n",
    "            epochs: Number of training epochs.\n",
    "            validation_split: Determines the size of the given dataset that is used\n",
    "                for training and that is used for evaluation.\n",
    "                \n",
    "        Returns:\n",
    "            history: The training history.\n",
    "        \"\"\"\n",
    "        history = self.model.fit(input_sequences, output_sequences,\n",
    "                                 validation_split=validation_split,\n",
    "                                 batch_size=1024, epochs=epochs,\n",
    "                                 verbose=1)\n",
    "        return history\n",
    "\n",
    "    def predict(self, input_sequence):\n",
    "        \"\"\"Use the trained model for prediction.\n",
    "        \n",
    "        Args:\n",
    "            input_sequence: Sequence of english word tokens to be translated to\n",
    "                french by the previously trained model.\n",
    "                \n",
    "        Returns:\n",
    "            output_sequence: Token sequence of french words.\n",
    "        \"\"\"\n",
    "        output = self.model.predict(input_sequence.reshape(1,-1))\n",
    "        token_seq = [np.argmax(row) for row in output[0]]\n",
    "        output_sequence = np.array(token_seq)\n",
    "        return output_sequence"
   ]
  },
  {
   "cell_type": "code",
   "execution_count": 9,
   "metadata": {},
   "outputs": [
    {
     "name": "stdout",
     "output_type": "stream",
     "text": [
      "_________________________________________________________________\n",
      "Layer (type)                 Output Shape              Param #   \n",
      "=================================================================\n",
      "input_1 (InputLayer)         (None, 15)                0         \n",
      "_________________________________________________________________\n",
      "embedding_2 (Embedding)      (None, 15, 64)            12800     \n",
      "_________________________________________________________________\n",
      "bidirectional_1 (Bidirection (None, 512)               493056    \n",
      "_________________________________________________________________\n",
      "repeat_vector_1 (RepeatVecto (None, 21, 512)           0         \n",
      "_________________________________________________________________\n",
      "gru_2 (GRU)                  (None, 21, 256)           590592    \n",
      "_________________________________________________________________\n",
      "time_distributed_1 (TimeDist (None, 21, 346)           88922     \n",
      "=================================================================\n",
      "Total params: 1,185,370\n",
      "Trainable params: 1,185,370\n",
      "Non-trainable params: 0\n",
      "_________________________________________________________________\n"
     ]
    }
   ],
   "source": [
    "translator_1 = TranslatorNet1(input_sequence_length=max_en_len, output_sequence_length=max_fr_len,\n",
    "                            output_dimension=len(fr_token_to_word), input_dimension=len(en_token_to_word))\n",
    "\n",
    "translator_1.model.summary()"
   ]
  },
  {
   "cell_type": "code",
   "execution_count": 10,
   "metadata": {},
   "outputs": [
    {
     "name": "stdout",
     "output_type": "stream",
     "text": [
      "Train on 110288 samples, validate on 27573 samples\n",
      "Epoch 1/20\n",
      "110288/110288 [==============================] - 40s 365us/step - loss: 3.0559 - acc: 0.4385 - val_loss: 2.4381 - val_acc: 0.4725\n",
      "Epoch 2/20\n",
      "110288/110288 [==============================] - 37s 338us/step - loss: 2.1342 - acc: 0.5057 - val_loss: 1.8671 - val_acc: 0.5377\n",
      "Epoch 3/20\n",
      "110288/110288 [==============================] - 37s 338us/step - loss: 1.7170 - acc: 0.5634 - val_loss: 1.5508 - val_acc: 0.5934\n",
      "Epoch 4/20\n",
      "110288/110288 [==============================] - 37s 338us/step - loss: 1.4658 - acc: 0.6100 - val_loss: 1.3781 - val_acc: 0.6276\n",
      "Epoch 5/20\n",
      "110288/110288 [==============================] - 38s 347us/step - loss: 1.3174 - acc: 0.6377 - val_loss: 1.2475 - val_acc: 0.6519\n",
      "Epoch 6/20\n",
      "110288/110288 [==============================] - 40s 360us/step - loss: 1.1762 - acc: 0.6699 - val_loss: 1.1007 - val_acc: 0.6863\n",
      "Epoch 7/20\n",
      "110288/110288 [==============================] - 41s 372us/step - loss: 1.0450 - acc: 0.6992 - val_loss: 1.0413 - val_acc: 0.6954\n",
      "Epoch 8/20\n",
      "110288/110288 [==============================] - 43s 392us/step - loss: 0.9728 - acc: 0.7134 - val_loss: 0.9690 - val_acc: 0.7110\n",
      "Epoch 9/20\n",
      "110288/110288 [==============================] - 43s 388us/step - loss: 0.8943 - acc: 0.7323 - val_loss: 0.8605 - val_acc: 0.7411\n",
      "Epoch 10/20\n",
      "110288/110288 [==============================] - 44s 403us/step - loss: 0.8324 - acc: 0.7476 - val_loss: 0.8078 - val_acc: 0.7537\n",
      "Epoch 11/20\n",
      "110288/110288 [==============================] - 42s 378us/step - loss: 0.7829 - acc: 0.7611 - val_loss: 0.7536 - val_acc: 0.7701\n",
      "Epoch 12/20\n",
      "110288/110288 [==============================] - 47s 422us/step - loss: 0.7350 - acc: 0.7753 - val_loss: 0.8368 - val_acc: 0.7501\n",
      "Epoch 13/20\n",
      "110288/110288 [==============================] - 42s 377us/step - loss: 0.7119 - acc: 0.7826 - val_loss: 0.6641 - val_acc: 0.7952\n",
      "Epoch 14/20\n",
      "110288/110288 [==============================] - 43s 392us/step - loss: 0.6355 - acc: 0.8043 - val_loss: 0.6235 - val_acc: 0.8076\n",
      "Epoch 15/20\n",
      "110288/110288 [==============================] - 42s 380us/step - loss: 0.5938 - acc: 0.8174 - val_loss: 0.5923 - val_acc: 0.8175\n",
      "Epoch 16/20\n",
      "110288/110288 [==============================] - 52s 471us/step - loss: 0.5484 - acc: 0.8322 - val_loss: 0.5374 - val_acc: 0.8371\n",
      "Epoch 17/20\n",
      "110288/110288 [==============================] - 56s 508us/step - loss: 0.5124 - acc: 0.8439 - val_loss: 0.5037 - val_acc: 0.8464\n",
      "Epoch 18/20\n",
      "110288/110288 [==============================] - 50s 453us/step - loss: 0.4726 - acc: 0.8569 - val_loss: 0.4687 - val_acc: 0.8582\n",
      "Epoch 19/20\n",
      "110288/110288 [==============================] - 50s 451us/step - loss: 0.4408 - acc: 0.8675 - val_loss: 0.4218 - val_acc: 0.8752\n",
      "Epoch 20/20\n",
      "110288/110288 [==============================] - 47s 424us/step - loss: 0.4067 - acc: 0.8789 - val_loss: 0.4006 - val_acc: 0.8823\n"
     ]
    }
   ],
   "source": [
    "history = translator_1.fit_on_data(en_sequences, fr_sequences, epochs=20)"
   ]
  },
  {
   "cell_type": "code",
   "execution_count": 11,
   "metadata": {},
   "outputs": [
    {
     "data": {
      "image/png": "[encoded data removed]",
      "text/plain": [
       "<Figure size 432x288 with 2 Axes>"
      ]
     },
     "metadata": {
      "needs_background": "light"
     },
     "output_type": "display_data"
    }
   ],
   "source": [
    "plot_training_history(history)"
   ]
  },
  {
   "cell_type": "markdown",
   "metadata": {},
   "source": [
    "### Model 2 ###"
   ]
  },
  {
   "cell_type": "code",
   "execution_count": 12,
   "metadata": {},
   "outputs": [],
   "source": [
    "class TranslatorNet2:\n",
    "    \"\"\"Sequence to sequence machine translation model using encoder-decoder scheme\n",
    "    \n",
    "    This model uses an encoder consisting of an embedding layer and an LSTM layer.\n",
    "    The LSTM layer takes the whole input sequence and returns its latest states\n",
    "    to the decoder. The decoder also uses an LSTM layer and a dense layer. The LSTM\n",
    "    layer of the decoder is initialized with the states of the encoder. Then the\n",
    "    decoder produces the output sequence token by token.\n",
    "    \n",
    "    Attributes:\n",
    "        training_model: Model for the training process.\n",
    "        inference_encoder: Encoder model for inference. Its layers are part of the\n",
    "            training model and are trained during the training process.\n",
    "        inference_decoder: Decoder model for inference. Its layers are part of the\n",
    "            training model and are trained during the training process.\n",
    "    \"\"\"\n",
    "    \n",
    "    self.training_model = None\n",
    "    self.inference_encoder = None\n",
    "    self.inference_decoder = None\n",
    "    \n",
    "    def __init__(self, input_sequence_length, output_sequence_length,\n",
    "                 output_dimension, embedding_layer=None, input_dimension=None):\n",
    "        \"\"\"Inits the neural network\n",
    "        \n",
    "        Args:\n",
    "            input_sequence_length: Number of elements in the input sequence\n",
    "                (all input sequences must be of a fix length).\n",
    "            output_sequence_length: Number of elements in the output sequence\n",
    "                (all output sequences must be of a fix length).\n",
    "            output_dimension: Number of possible output categories, here it is\n",
    "                the number of different words in the french vocabulary.\n",
    "            embedding_layer: A given keras.layers.Embedding object that is used\n",
    "                for the word embedding. If this is None, the model uses an untrained\n",
    "                embedding layer and trains it during training phase.\n",
    "            input_dimension: Number of input categories (different words in the\n",
    "                english vocabulary). Can be None if an embedding layer is provided.\n",
    "        \"\"\"\n",
    "        self.output_dimension = output_dimension\n",
    "        self.output_sequence_length = output_sequence_length\n",
    "        # encoder\n",
    "        enc_input = Input(shape=(input_sequence_length,), dtype='int32')\n",
    "        if embedding_layer is None:\n",
    "            if input_dimension is None:\n",
    "                raise ValueError(\"If embedding_layer is None, input_dimension must be specified.\")\n",
    "            emb = Embedding(input_dimension, 64, input_length=input_sequence_length,\n",
    "                            mask_zero=False)(enc_input)\n",
    "        else:\n",
    "            emb = embed_layer(enc_input)\n",
    "        \n",
    "        enc_lstm = LSTM(128, return_state=True, return_sequences=False)\n",
    "        enc_out, state_h, state_c = enc_lstm(emb)\n",
    "        enc_state = [state_h, state_c]\n",
    "        \n",
    "        # decoder\n",
    "        dec_input = Input(shape=(None, output_dimension))\n",
    "        dec_lstm = LSTM(128, return_sequences=True, return_state=True)\n",
    "        dec_lstm_out, _, _ = dec_lstm(dec_input, initial_state=enc_state)\n",
    "        dec_dense = Dense(output_dimension, activation=\"softmax\")\n",
    "        dec_out = dec_dense(dec_lstm_out)\n",
    "        \n",
    "        # training model\n",
    "        self.training_model = Model([enc_input, dec_input], dec_out)\n",
    "\n",
    "        # inference encoder\n",
    "        self.inference_encoder = Model(enc_input, enc_state)\n",
    "        \n",
    "        # inference decoder\n",
    "        input_state_h = Input(shape=(128,))\n",
    "        input_state_c = Input(shape=(128,))\n",
    "        input_state = [input_state_h, input_state_c]\n",
    "        dec_lstm_out, state_h, state_c = dec_lstm(dec_input, initial_state=input_state)\n",
    "        dec_state = [state_h, state_c]\n",
    "        dec_out = dec_dense(dec_lstm_out)\n",
    "        \n",
    "        self.inference_decoder = Model([dec_input] + input_state, [dec_out] + dec_state)\n",
    "        \n",
    "        learning_rate = 0.01\n",
    "        self.training_model.compile(loss=\"categorical_crossentropy\",\n",
    "                                    optimizer=Adam(learning_rate), metrics=['accuracy'])\n",
    "    \n",
    "    def fit_on_data(self, input_sequences, output_sequences, epochs=10, validation_split=0.2):\n",
    "        \"\"\"Trains and evaluates the model on a given dataset\n",
    "        \n",
    "        Args:\n",
    "            input_sequences: Input to the model for training and evaluation.\n",
    "            output_sequences: Correct output corresponding to the input.\n",
    "            epochs: Number of training epochs.\n",
    "            validation_split: Determines the size of the given dataset that is used\n",
    "                for training and that is used for evaluation.\n",
    "                \n",
    "        Returns:\n",
    "            history: The training history.\n",
    "        \"\"\"\n",
    "        pad_hot_encoded = np.array([1] + (fr_sequences[0].shape[1] - 1)*[0])\n",
    "        shifted_output_sequences = np.copy(output_sequences)\n",
    "        for seq in shifted_output_sequences:\n",
    "            seq[...] = np.vstack((pad_hot_encoded, seq[:-1]))\n",
    "        \n",
    "        history = self.training_model.fit([input_sequences, shifted_output_sequences], output_sequences,\n",
    "                                          validation_split=validation_split, batch_size=1024,\n",
    "                                          epochs=epochs, verbose=1)\n",
    "        return history\n",
    "    \n",
    "    def predict(self, input_sequence):\n",
    "        \"\"\"Use the trained model for prediction.\n",
    "        \n",
    "        Args:\n",
    "            input_sequence: Sequence of english word tokens to be translated to\n",
    "                french by the previously trained model.\n",
    "                \n",
    "        Returns:\n",
    "            output_sequence: Token sequence of french words.\n",
    "        \"\"\"\n",
    "        # encode\n",
    "        state = self.inference_encoder.predict(input_sequence.reshape(1,-1))\n",
    "        # start of sequence input\n",
    "        target_seq = np.array([0.0 for _ in range(self.output_dimension)]).reshape(1, 1, self.output_dimension)\n",
    "        # collect predictions\n",
    "        output = list()\n",
    "        for t in range(self.output_sequence_length):\n",
    "            # predict next word\n",
    "            yhat, h, c = self.inference_decoder.predict([target_seq] + state)\n",
    "        \n",
    "            output.append(yhat[0, 0, :])\n",
    "        \n",
    "            state = [h, c]\n",
    "        \n",
    "            target_seq = yhat\n",
    "        token_seq = [np.argmax(row) for row in output]\n",
    "        output_sequence = np.array(token_seq)\n",
    "        return output_sequence"
   ]
  },
  {
   "cell_type": "code",
   "execution_count": 13,
   "metadata": {},
   "outputs": [
    {
     "name": "stdout",
     "output_type": "stream",
     "text": [
      "__________________________________________________________________________________________________\n",
      "Layer (type)                    Output Shape         Param #     Connected to                     \n",
      "==================================================================================================\n",
      "input_2 (InputLayer)            (None, 15)           0                                            \n",
      "__________________________________________________________________________________________________\n",
      "embedding_3 (Embedding)         (None, 15, 64)       12800       input_2[0][0]                    \n",
      "__________________________________________________________________________________________________\n",
      "input_3 (InputLayer)            (None, None, 346)    0                                            \n",
      "__________________________________________________________________________________________________\n",
      "lstm_1 (LSTM)                   [(None, 128), (None, 98816       embedding_3[0][0]                \n",
      "__________________________________________________________________________________________________\n",
      "lstm_2 (LSTM)                   [(None, None, 128),  243200      input_3[0][0]                    \n",
      "                                                                 lstm_1[0][1]                     \n",
      "                                                                 lstm_1[0][2]                     \n",
      "__________________________________________________________________________________________________\n",
      "dense_2 (Dense)                 (None, None, 346)    44634       lstm_2[0][0]                     \n",
      "==================================================================================================\n",
      "Total params: 399,450\n",
      "Trainable params: 399,450\n",
      "Non-trainable params: 0\n",
      "__________________________________________________________________________________________________\n",
      "_________________________________________________________________\n",
      "Layer (type)                 Output Shape              Param #   \n",
      "=================================================================\n",
      "input_2 (InputLayer)         (None, 15)                0         \n",
      "_________________________________________________________________\n",
      "embedding_3 (Embedding)      (None, 15, 64)            12800     \n",
      "_________________________________________________________________\n",
      "lstm_1 (LSTM)                [(None, 128), (None, 128) 98816     \n",
      "=================================================================\n",
      "Total params: 111,616\n",
      "Trainable params: 111,616\n",
      "Non-trainable params: 0\n",
      "_________________________________________________________________\n",
      "__________________________________________________________________________________________________\n",
      "Layer (type)                    Output Shape         Param #     Connected to                     \n",
      "==================================================================================================\n",
      "input_3 (InputLayer)            (None, None, 346)    0                                            \n",
      "__________________________________________________________________________________________________\n",
      "input_4 (InputLayer)            (None, 128)          0                                            \n",
      "__________________________________________________________________________________________________\n",
      "input_5 (InputLayer)            (None, 128)          0                                            \n",
      "__________________________________________________________________________________________________\n",
      "lstm_2 (LSTM)                   [(None, None, 128),  243200      input_3[0][0]                    \n",
      "                                                                 input_4[0][0]                    \n",
      "                                                                 input_5[0][0]                    \n",
      "__________________________________________________________________________________________________\n",
      "dense_2 (Dense)                 (None, None, 346)    44634       lstm_2[1][0]                     \n",
      "==================================================================================================\n",
      "Total params: 287,834\n",
      "Trainable params: 287,834\n",
      "Non-trainable params: 0\n",
      "__________________________________________________________________________________________________\n"
     ]
    }
   ],
   "source": [
    "translator_2 = TranslatorNet2(input_sequence_length=max_en_len, output_sequence_length=max_fr_len,\n",
    "                            output_dimension=len(fr_token_to_word), input_dimension=len(en_token_to_word))\n",
    "\n",
    "translator_2.training_model.summary()\n",
    "translator_2.inference_encoder.summary()\n",
    "translator_2.inference_decoder.summary()"
   ]
  },
  {
   "cell_type": "code",
   "execution_count": 14,
   "metadata": {},
   "outputs": [
    {
     "name": "stdout",
     "output_type": "stream",
     "text": [
      "Train on 110288 samples, validate on 27573 samples\n",
      "Epoch 1/20\n",
      "110288/110288 [==============================] - 29s 266us/step - loss: 1.7437 - acc: 0.6052 - val_loss: 0.7588 - val_acc: 0.7467\n",
      "Epoch 2/20\n",
      "110288/110288 [==============================] - 25s 228us/step - loss: 0.6407 - acc: 0.7760 - val_loss: 0.5487 - val_acc: 0.7992\n",
      "Epoch 3/20\n",
      "110288/110288 [==============================] - 25s 226us/step - loss: 0.4782 - acc: 0.8293 - val_loss: 0.3804 - val_acc: 0.8666\n",
      "Epoch 4/20\n",
      "110288/110288 [==============================] - 26s 238us/step - loss: 0.3062 - acc: 0.8939 - val_loss: 0.2230 - val_acc: 0.9257\n",
      "Epoch 5/20\n",
      "110288/110288 [==============================] - 25s 223us/step - loss: 0.1581 - acc: 0.9519 - val_loss: 0.1052 - val_acc: 0.9721\n",
      "Epoch 6/20\n",
      "110288/110288 [==============================] - 25s 229us/step - loss: 0.0801 - acc: 0.9789 - val_loss: 0.0641 - val_acc: 0.9837\n",
      "Epoch 7/20\n",
      "110288/110288 [==============================] - 25s 229us/step - loss: 0.0511 - acc: 0.9870 - val_loss: 0.0449 - val_acc: 0.9884\n",
      "Epoch 8/20\n",
      "110288/110288 [==============================] - 25s 224us/step - loss: 0.0382 - acc: 0.9901 - val_loss: 0.0355 - val_acc: 0.9909\n",
      "Epoch 9/20\n",
      "110288/110288 [==============================] - 25s 230us/step - loss: 0.0305 - acc: 0.9920 - val_loss: 0.0301 - val_acc: 0.9922\n",
      "Epoch 10/20\n",
      "110288/110288 [==============================] - 24s 221us/step - loss: 0.0256 - acc: 0.9932 - val_loss: 0.0266 - val_acc: 0.9931\n",
      "Epoch 11/20\n",
      "110288/110288 [==============================] - 24s 218us/step - loss: 0.0222 - acc: 0.9941 - val_loss: 0.0244 - val_acc: 0.9934\n",
      "Epoch 12/20\n",
      "110288/110288 [==============================] - 24s 222us/step - loss: 0.0194 - acc: 0.9948 - val_loss: 0.0213 - val_acc: 0.9942\n",
      "Epoch 13/20\n",
      "110288/110288 [==============================] - 24s 216us/step - loss: 0.0172 - acc: 0.9954 - val_loss: 0.0197 - val_acc: 0.9946\n",
      "Epoch 14/20\n",
      "110288/110288 [==============================] - 24s 216us/step - loss: 0.1679 - acc: 0.9586 - val_loss: 0.1406 - val_acc: 0.9594\n",
      "Epoch 15/20\n",
      "110288/110288 [==============================] - 24s 218us/step - loss: 0.0656 - acc: 0.9833 - val_loss: 0.0414 - val_acc: 0.9900\n",
      "Epoch 16/20\n",
      "110288/110288 [==============================] - 24s 217us/step - loss: 0.0323 - acc: 0.9921 - val_loss: 0.0290 - val_acc: 0.9929\n",
      "Epoch 17/20\n",
      "110288/110288 [==============================] - 24s 215us/step - loss: 0.0239 - acc: 0.9942 - val_loss: 0.0240 - val_acc: 0.9939\n",
      "Epoch 18/20\n",
      "110288/110288 [==============================] - 24s 219us/step - loss: 0.0194 - acc: 0.9952 - val_loss: 0.0206 - val_acc: 0.9948\n",
      "Epoch 19/20\n",
      "110288/110288 [==============================] - 25s 225us/step - loss: 0.0165 - acc: 0.9959 - val_loss: 0.0182 - val_acc: 0.9953\n",
      "Epoch 20/20\n",
      "110288/110288 [==============================] - 25s 226us/step - loss: 0.0144 - acc: 0.9963 - val_loss: 0.0165 - val_acc: 0.9957\n"
     ]
    }
   ],
   "source": [
    "history = translator_2.fit_on_data(en_sequences, fr_sequences, epochs=20)"
   ]
  },
  {
   "cell_type": "code",
   "execution_count": 15,
   "metadata": {},
   "outputs": [
    {
     "data": {
      "image/png": "[encoded data removed]",
      "text/plain": [
       "<Figure size 432x288 with 2 Axes>"
      ]
     },
     "metadata": {
      "needs_background": "light"
     },
     "output_type": "display_data"
    }
   ],
   "source": [
    "plot_training_history(history)"
   ]
  },
  {
   "cell_type": "code",
   "execution_count": 16,
   "metadata": {},
   "outputs": [
    {
     "name": "stdout",
     "output_type": "stream",
     "text": [
      " l' inde est jamais agrã©able au printemps mais il gã¨le en en fã©vrier <PAD> <PAD> <PAD> <PAD> <PAD> <PAD> <PAD> <PAD>\n",
      " l' inde est jamais belle au printemps mais il gã¨le habituellement en fã©vrier <PAD> <PAD> <PAD> <PAD> <PAD> <PAD> <PAD> <PAD>\n",
      "l' inde est jamais belle au printemps , mais il gÃ¨le habituellement en fÃ©vrier .\n"
     ]
    }
   ],
   "source": [
    "def translate(english_sentence, model):\n",
    "    \"\"\" Translate an english sentence into french using a given model\n",
    "    \n",
    "    Args:\n",
    "        english_sentence: English sentence as a string, e.g. \"The sun always shines on TV!\".\n",
    "        model: Keras model that should be used for trainslation.\n",
    "    \"\"\"\n",
    "    english_token_sequence = en_tokenizer.texts_to_sequences([english_sentence])[0]\n",
    "    padding_len = max_en_len - len(english_token_sequence)\n",
    "    english_token_sequence = english_token_sequence + padding_len*[0]\n",
    "    french_token_sequence = model.predict(np.array(english_token_sequence))\n",
    "    french_sentence = token_seq_to_french_sentence(french_token_sequence)\n",
    "    return french_sentence\n",
    "    \n",
    "print(translate(en_vocab[291], translator_1))\n",
    "print(translate(en_vocab[291], translator_2))\n",
    "print(fr_vocab[291])"
   ]
  },
  {
   "cell_type": "code",
   "execution_count": null,
   "metadata": {},
   "outputs": [],
   "source": []
  }
 ],
 "metadata": {
  "kernelspec": {
   "display_name": "Python 3",
   "language": "python",
   "name": "python3"
  },
  "language_info": {
   "codemirror_mode": {
    "name": "ipython",
    "version": 3
   },
   "file_extension": ".py",
   "mimetype": "text/x-python",
   "name": "python",
   "nbconvert_exporter": "python",
   "pygments_lexer": "ipython3",
   "version": "3.5.6"
  }
 },
 "nbformat": 4,
 "nbformat_minor": 2
}
